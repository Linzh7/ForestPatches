{
 "cells": [
  {
   "cell_type": "code",
   "execution_count": 1,
   "id": "1e389692-d29b-4f3b-8a2f-d7eadf99ea6c",
   "metadata": {},
   "outputs": [
    {
     "name": "stdout",
     "output_type": "stream",
     "text": [
      "Device: GPU\n",
      "Note: NumExpr detected 40 cores but \"NUMEXPR_MAX_THREADS\" not set, so enforcing safe limit of 8.\n",
      "NumExpr defaulting to 8 threads.\n"
     ]
    }
   ],
   "source": [
    "from deoldify import device\n",
    "from deoldify.device_id import DeviceId\n",
    "from deoldify.visualize import *\n",
    "import warnings\n",
    "import linzhutils as lu\n",
    "from tqdm import tqdm"
   ]
  },
  {
   "cell_type": "code",
   "execution_count": 3,
   "id": "2a25b277-fee8-4ea0-b3f2-a8a13d3466d3",
   "metadata": {},
   "outputs": [],
   "source": [
    "import torch\n",
    "if not torch.cuda.is_available():\n",
    "    print('GPU not available.')"
   ]
  },
  {
   "cell_type": "code",
   "execution_count": null,
   "id": "a2cade64-5685-4850-9d0d-6bf552d1490d",
   "metadata": {},
   "outputs": [],
   "source": [
    "torch.backends.cudnn.benchmark=True\n",
    "\n",
    "warnings.filterwarnings(\"ignore\", category=UserWarning, message=\".*?Your .*? set is empty.*?\")\n",
    "\n",
    "colorizer = get_image_colorizer(artistic=True)\n",
    "\n",
    "INPUT_DIR = '/scratch/project_2007251/hel1954/images'\n",
    "OUTPUT_DIR = '/scratch/project_2007251/hel1954/colored_images'\n",
    "lu.checkDir(OUTPUT_DIR)\n",
    "INTENSITY = 100 # set above over 100 for better performance, however 110 might be the max value for A100\n",
    "\n",
    "file_list = sorted(lu.getFileList(INPUT_DIR))\n",
    "target_file_list = sorted(lu.getFileList(OUTPUT_DIR))\n",
    "\n",
    "for file in tqdm(file_list):\n",
    "    if file in target_file_list:\n",
    "        print(f'{file} existed')\n",
    "        continue\n",
    "    colorizer.save_transformed_image(os.path.join(INPUT_DIR,file), os.path.join(OUTPUT_DIR,file), render_factor=INTENSITY)"
   ]
  }
 ],
 "metadata": {
  "kernelspec": {
   "display_name": "Python 3 (ipykernel)",
   "language": "python",
   "name": "python3"
  },
  "language_info": {
   "codemirror_mode": {
    "name": "ipython",
    "version": 3
   },
   "file_extension": ".py",
   "mimetype": "text/x-python",
   "name": "python",
   "nbconvert_exporter": "python",
   "pygments_lexer": "ipython3",
   "version": "3.9.13"
  }
 },
 "nbformat": 4,
 "nbformat_minor": 5
}
