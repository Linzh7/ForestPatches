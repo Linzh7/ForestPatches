{
 "cells": [
  {
   "cell_type": "code",
   "execution_count": 1,
   "metadata": {},
   "outputs": [
    {
     "name": "stdout",
     "output_type": "stream",
     "text": [
      "cuda\n"
     ]
    }
   ],
   "source": [
    "# !pip install -U segmentation-models-pytorch albumentations --user\n",
    "import os\n",
    "os.environ['CUDA_VISIBLE_DEVICES'] = '0'\n",
    "\n",
    "import numpy as np\n",
    "# import cv2\n",
    "import matplotlib.pyplot as plt\n",
    "import linzhutils as lu\n",
    "from testdataset import Dataset\n",
    "from torch.utils.data import DataLoader\n",
    "import albumentations as albu\n",
    "import segmentation_models_pytorch as smp\n",
    "import torch\n",
    "from tqdm import tqdm\n",
    "\n",
    "DEVICE = 'cuda' if torch.cuda.is_available() else 'cpu'\n",
    "print(DEVICE)"
   ]
  },
  {
   "cell_type": "code",
   "execution_count": 2,
   "metadata": {},
   "outputs": [
    {
     "name": "stdout",
     "output_type": "stream",
     "text": [
      "There are 50400 files.\n"
     ]
    }
   ],
   "source": [
    "DATA_DIR = '/scratch/project_2007251/hel1964/'\n",
    "\n",
    "IMAGE_DIR = 'small_images'\n",
    "OUTPUT_DIR = 'output'\n",
    "\n",
    "lu.checkDir(os.path.join(DATA_DIR, OUTPUT_DIR))\n",
    "\n",
    "\n",
    "MASK_DIR = IMAGE_DIR\n",
    "\n",
    "img_dir = os.path.join(DATA_DIR, IMAGE_DIR)\n",
    "anno_dir = os.path.join(DATA_DIR, MASK_DIR)\n",
    "\n",
    "print(f'There are {len(os.listdir(img_dir))} files.')\n",
    "\n",
    "\n",
    "def get_validation_augmentation():\n",
    "    \"\"\"Add paddings to make image shape divisible by 32\"\"\"\n",
    "    test_transform = [albu.PadIfNeeded(512, 512)]\n",
    "    return albu.Compose(test_transform)\n",
    "\n",
    "\n",
    "def to_tensor(x, **kwargs):\n",
    "    return x.transpose(2, 0, 1).astype('float32')\n",
    "\n",
    "\n",
    "def get_preprocessing(preprocessing_fn):\n",
    "    \"\"\"Construct preprocessing transform\n",
    "    \n",
    "    Args:\n",
    "        preprocessing_fn (callbale): data normalization function \n",
    "            (can be specific for each pretrained neural network)\n",
    "    Return:\n",
    "        transform: albumentations.Compose\n",
    "    \n",
    "    \"\"\"\n",
    "\n",
    "    _transform = [\n",
    "        albu.Lambda(image=preprocessing_fn),\n",
    "        albu.Lambda(image=to_tensor, mask=to_tensor),\n",
    "    ]\n",
    "    return albu.Compose(_transform)"
   ]
  },
  {
   "cell_type": "code",
   "execution_count": 3,
   "metadata": {},
   "outputs": [],
   "source": [
    "# load best saved checkpoint\n",
    "model = torch.load('./models/kussi_FPN_efficientnet-b7_7_0.490.pth')\n",
    "ENCODER = 'efficientnet-b7'\n",
    "ENCODER_WEIGHTS = 'imagenet'\n",
    "CLASSES = ['kussi']\n",
    "preprocessing_fn = smp.encoders.get_preprocessing_fn(ENCODER, ENCODER_WEIGHTS)"
   ]
  },
  {
   "cell_type": "code",
   "execution_count": 4,
   "metadata": {},
   "outputs": [],
   "source": [
    "# create test dataset\n",
    "\n",
    "test_dataset = Dataset(\n",
    "    img_dir,\n",
    "    anno_dir,\n",
    "    augmentation=get_validation_augmentation(),\n",
    "    preprocessing=get_preprocessing(preprocessing_fn),\n",
    "    classes=CLASSES,\n",
    ")\n",
    "\n",
    "test_dataloader = DataLoader(test_dataset)"
   ]
  },
  {
   "cell_type": "code",
   "execution_count": 5,
   "metadata": {},
   "outputs": [],
   "source": [
    "# # helper function for data visualization\n",
    "# def visualize(**images):\n",
    "#     \"\"\"PLot images in one row.\"\"\"\n",
    "#     n = len(images)\n",
    "#     plt.figure(figsize=(16, 5))\n",
    "#     for i, (name, image) in enumerate(images.items()):\n",
    "#         plt.subplot(1, n, i + 1)\n",
    "#         plt.xticks([])\n",
    "#         plt.yticks([])\n",
    "#         plt.title(' '.join(name.split('_')).title())\n",
    "#         plt.imshow(image)\n",
    "#     plt.show()"
   ]
  },
  {
   "cell_type": "code",
   "execution_count": 6,
   "metadata": {},
   "outputs": [],
   "source": [
    "def save_masks(masks):\n",
    "    global file_num\n",
    "    name = f\"result_masks_{file_num}.npy\"\n",
    "    filename = f\"{os.path.join(DATA_DIR, OUTPUT_DIR, name)}\"\n",
    "    concatenated = np.concatenate(masks, axis=0)\n",
    "    reshaped = concatenated.reshape((-1, 512, 512))\n",
    "    np.save(filename, np.array(masks))\n",
    "    print(f\"Saved {filename}\")\n",
    "    file_num += 1"
   ]
  },
  {
   "cell_type": "code",
   "execution_count": 7,
   "metadata": {},
   "outputs": [],
   "source": [
    "fileList = []\n",
    "for i in test_dataset.ids:\n",
    "    fileList.append(os.path.join(img_dir, i))\n",
    "np.save(os.path.join(DATA_DIR, OUTPUT_DIR, 'file_list.npy'),np.array(fileList))"
   ]
  },
  {
   "cell_type": "code",
   "execution_count": 8,
   "metadata": {},
   "outputs": [],
   "source": [
    "# wrong size checker, uncomment this if some images are not 512x512\n",
    "# import cv2\n",
    "# list_5120 = []\n",
    "# for i in tqdm(os.listdir(img_dir)):\n",
    "#     # print(i)\n",
    "#     img = cv2.imread(os.path.join(img_dir,i))\n",
    "#     if img.shape != (512, 512, 3):\n",
    "#         print(o, img.shape)\n",
    "#         list_5120.append(fileList[i])\n",
    "#         # break"
   ]
  },
  {
   "cell_type": "code",
   "execution_count": 9,
   "metadata": {},
   "outputs": [
    {
     "name": "stderr",
     "output_type": "stream",
     "text": [
      "  2%|▏         | 1026/50400 [01:20<7:32:49,  1.82it/s]"
     ]
    },
    {
     "name": "stdout",
     "output_type": "stream",
     "text": [
      "Saved /scratch/project_2007251/hel1964/output/result_masks_0.npy\n"
     ]
    },
    {
     "name": "stderr",
     "output_type": "stream",
     "text": [
      "  4%|▍         | 2051/50400 [02:41<5:30:14,  2.44it/s]"
     ]
    },
    {
     "name": "stdout",
     "output_type": "stream",
     "text": [
      "Saved /scratch/project_2007251/hel1964/output/result_masks_1.npy\n"
     ]
    },
    {
     "name": "stderr",
     "output_type": "stream",
     "text": [
      "  6%|▌         | 3074/50400 [04:01<6:40:23,  1.97it/s]"
     ]
    },
    {
     "name": "stdout",
     "output_type": "stream",
     "text": [
      "Saved /scratch/project_2007251/hel1964/output/result_masks_2.npy\n"
     ]
    },
    {
     "name": "stderr",
     "output_type": "stream",
     "text": [
      "  8%|▊         | 4098/50400 [05:20<5:21:44,  2.40it/s]"
     ]
    },
    {
     "name": "stdout",
     "output_type": "stream",
     "text": [
      "Saved /scratch/project_2007251/hel1964/output/result_masks_3.npy\n"
     ]
    },
    {
     "name": "stderr",
     "output_type": "stream",
     "text": [
      " 10%|█         | 5124/50400 [06:41<5:45:57,  2.18it/s]"
     ]
    },
    {
     "name": "stdout",
     "output_type": "stream",
     "text": [
      "Saved /scratch/project_2007251/hel1964/output/result_masks_4.npy\n"
     ]
    },
    {
     "name": "stderr",
     "output_type": "stream",
     "text": [
      " 12%|█▏        | 6147/50400 [07:59<5:26:23,  2.26it/s]"
     ]
    },
    {
     "name": "stdout",
     "output_type": "stream",
     "text": [
      "Saved /scratch/project_2007251/hel1964/output/result_masks_5.npy\n"
     ]
    },
    {
     "name": "stderr",
     "output_type": "stream",
     "text": [
      " 14%|█▍        | 7172/50400 [09:20<4:40:01,  2.57it/s]"
     ]
    },
    {
     "name": "stdout",
     "output_type": "stream",
     "text": [
      "Saved /scratch/project_2007251/hel1964/output/result_masks_6.npy\n"
     ]
    },
    {
     "name": "stderr",
     "output_type": "stream",
     "text": [
      " 16%|█▋        | 8194/50400 [10:41<6:57:05,  1.69it/s]"
     ]
    },
    {
     "name": "stdout",
     "output_type": "stream",
     "text": [
      "Saved /scratch/project_2007251/hel1964/output/result_masks_7.npy\n"
     ]
    },
    {
     "name": "stderr",
     "output_type": "stream",
     "text": [
      " 18%|█▊        | 9217/50400 [12:01<5:43:05,  2.00it/s]"
     ]
    },
    {
     "name": "stdout",
     "output_type": "stream",
     "text": [
      "Saved /scratch/project_2007251/hel1964/output/result_masks_8.npy\n"
     ]
    },
    {
     "name": "stderr",
     "output_type": "stream",
     "text": [
      " 20%|██        | 10243/50400 [13:21<4:18:10,  2.59it/s]"
     ]
    },
    {
     "name": "stdout",
     "output_type": "stream",
     "text": [
      "Saved /scratch/project_2007251/hel1964/output/result_masks_9.npy\n"
     ]
    },
    {
     "name": "stderr",
     "output_type": "stream",
     "text": [
      " 22%|██▏       | 11265/50400 [14:40<7:17:25,  1.49it/s]"
     ]
    },
    {
     "name": "stdout",
     "output_type": "stream",
     "text": [
      "Saved /scratch/project_2007251/hel1964/output/result_masks_10.npy\n"
     ]
    },
    {
     "name": "stderr",
     "output_type": "stream",
     "text": [
      " 24%|██▍       | 12290/50400 [15:58<5:31:54,  1.91it/s]"
     ]
    },
    {
     "name": "stdout",
     "output_type": "stream",
     "text": [
      "Saved /scratch/project_2007251/hel1964/output/result_masks_11.npy\n"
     ]
    },
    {
     "name": "stderr",
     "output_type": "stream",
     "text": [
      " 26%|██▋       | 13315/50400 [17:17<3:54:22,  2.64it/s]"
     ]
    },
    {
     "name": "stdout",
     "output_type": "stream",
     "text": [
      "Saved /scratch/project_2007251/hel1964/output/result_masks_12.npy\n"
     ]
    },
    {
     "name": "stderr",
     "output_type": "stream",
     "text": [
      " 28%|██▊       | 14338/50400 [18:36<4:39:24,  2.15it/s]"
     ]
    },
    {
     "name": "stdout",
     "output_type": "stream",
     "text": [
      "Saved /scratch/project_2007251/hel1964/output/result_masks_13.npy\n"
     ]
    },
    {
     "name": "stderr",
     "output_type": "stream",
     "text": [
      " 30%|███       | 15363/50400 [19:55<3:54:25,  2.49it/s]"
     ]
    },
    {
     "name": "stdout",
     "output_type": "stream",
     "text": [
      "Saved /scratch/project_2007251/hel1964/output/result_masks_14.npy\n"
     ]
    },
    {
     "name": "stderr",
     "output_type": "stream",
     "text": [
      " 33%|███▎      | 16386/50400 [21:13<3:56:43,  2.39it/s]"
     ]
    },
    {
     "name": "stdout",
     "output_type": "stream",
     "text": [
      "Saved /scratch/project_2007251/hel1964/output/result_masks_15.npy\n"
     ]
    },
    {
     "name": "stderr",
     "output_type": "stream",
     "text": [
      " 35%|███▍      | 17410/50400 [22:33<4:27:08,  2.06it/s]"
     ]
    },
    {
     "name": "stdout",
     "output_type": "stream",
     "text": [
      "Saved /scratch/project_2007251/hel1964/output/result_masks_16.npy\n"
     ]
    },
    {
     "name": "stderr",
     "output_type": "stream",
     "text": [
      " 37%|███▋      | 18435/50400 [23:50<3:18:59,  2.68it/s]"
     ]
    },
    {
     "name": "stdout",
     "output_type": "stream",
     "text": [
      "Saved /scratch/project_2007251/hel1964/output/result_masks_17.npy\n"
     ]
    },
    {
     "name": "stderr",
     "output_type": "stream",
     "text": [
      " 39%|███▊      | 19457/50400 [25:07<5:12:55,  1.65it/s]"
     ]
    },
    {
     "name": "stdout",
     "output_type": "stream",
     "text": [
      "Saved /scratch/project_2007251/hel1964/output/result_masks_18.npy\n"
     ]
    },
    {
     "name": "stderr",
     "output_type": "stream",
     "text": [
      " 41%|████      | 20483/50400 [26:27<3:58:04,  2.09it/s]"
     ]
    },
    {
     "name": "stdout",
     "output_type": "stream",
     "text": [
      "Saved /scratch/project_2007251/hel1964/output/result_masks_19.npy\n"
     ]
    },
    {
     "name": "stderr",
     "output_type": "stream",
     "text": [
      " 43%|████▎     | 21506/50400 [27:48<5:06:02,  1.57it/s]"
     ]
    },
    {
     "name": "stdout",
     "output_type": "stream",
     "text": [
      "Saved /scratch/project_2007251/hel1964/output/result_masks_20.npy\n"
     ]
    },
    {
     "name": "stderr",
     "output_type": "stream",
     "text": [
      " 45%|████▍     | 22529/50400 [29:09<4:52:58,  1.59it/s]"
     ]
    },
    {
     "name": "stdout",
     "output_type": "stream",
     "text": [
      "Saved /scratch/project_2007251/hel1964/output/result_masks_21.npy\n"
     ]
    },
    {
     "name": "stderr",
     "output_type": "stream",
     "text": [
      " 47%|████▋     | 23554/50400 [30:31<4:55:43,  1.51it/s]"
     ]
    },
    {
     "name": "stdout",
     "output_type": "stream",
     "text": [
      "Saved /scratch/project_2007251/hel1964/output/result_masks_22.npy\n"
     ]
    },
    {
     "name": "stderr",
     "output_type": "stream",
     "text": [
      " 49%|████▉     | 24580/50400 [31:50<2:41:16,  2.67it/s]"
     ]
    },
    {
     "name": "stdout",
     "output_type": "stream",
     "text": [
      "Saved /scratch/project_2007251/hel1964/output/result_masks_23.npy\n"
     ]
    },
    {
     "name": "stderr",
     "output_type": "stream",
     "text": [
      " 51%|█████     | 25603/50400 [33:12<3:33:53,  1.93it/s]"
     ]
    },
    {
     "name": "stdout",
     "output_type": "stream",
     "text": [
      "Saved /scratch/project_2007251/hel1964/output/result_masks_24.npy\n"
     ]
    },
    {
     "name": "stderr",
     "output_type": "stream",
     "text": [
      " 53%|█████▎    | 26628/50400 [34:32<2:22:26,  2.78it/s]"
     ]
    },
    {
     "name": "stdout",
     "output_type": "stream",
     "text": [
      "Saved /scratch/project_2007251/hel1964/output/result_masks_25.npy\n"
     ]
    },
    {
     "name": "stderr",
     "output_type": "stream",
     "text": [
      " 55%|█████▍    | 27651/50400 [35:55<4:30:05,  1.40it/s]"
     ]
    },
    {
     "name": "stdout",
     "output_type": "stream",
     "text": [
      "Saved /scratch/project_2007251/hel1964/output/result_masks_26.npy\n"
     ]
    },
    {
     "name": "stderr",
     "output_type": "stream",
     "text": [
      " 57%|█████▋    | 28675/50400 [37:16<2:44:26,  2.20it/s]"
     ]
    },
    {
     "name": "stdout",
     "output_type": "stream",
     "text": [
      "Saved /scratch/project_2007251/hel1964/output/result_masks_27.npy\n"
     ]
    },
    {
     "name": "stderr",
     "output_type": "stream",
     "text": [
      " 59%|█████▉    | 29697/50400 [38:38<5:02:29,  1.14it/s]"
     ]
    },
    {
     "name": "stdout",
     "output_type": "stream",
     "text": [
      "Saved /scratch/project_2007251/hel1964/output/result_masks_28.npy\n"
     ]
    },
    {
     "name": "stderr",
     "output_type": "stream",
     "text": [
      " 61%|██████    | 30722/50400 [39:59<2:41:02,  2.04it/s]"
     ]
    },
    {
     "name": "stdout",
     "output_type": "stream",
     "text": [
      "Saved /scratch/project_2007251/hel1964/output/result_masks_29.npy\n"
     ]
    },
    {
     "name": "stderr",
     "output_type": "stream",
     "text": [
      " 63%|██████▎   | 31742/50400 [41:15<14:26, 21.52it/s]  "
     ]
    },
    {
     "name": "stdout",
     "output_type": "stream",
     "text": [
      "Saved /scratch/project_2007251/hel1964/output/result_masks_30.npy\n"
     ]
    },
    {
     "name": "stderr",
     "output_type": "stream",
     "text": [
      " 65%|██████▌   | 32771/50400 [42:41<1:56:27,  2.52it/s]"
     ]
    },
    {
     "name": "stdout",
     "output_type": "stream",
     "text": [
      "Saved /scratch/project_2007251/hel1964/output/result_masks_31.npy\n"
     ]
    },
    {
     "name": "stderr",
     "output_type": "stream",
     "text": [
      " 67%|██████▋   | 33794/50400 [44:01<2:01:44,  2.27it/s]"
     ]
    },
    {
     "name": "stdout",
     "output_type": "stream",
     "text": [
      "Saved /scratch/project_2007251/hel1964/output/result_masks_32.npy\n"
     ]
    },
    {
     "name": "stderr",
     "output_type": "stream",
     "text": [
      " 69%|██████▉   | 34819/50400 [45:22<1:54:12,  2.27it/s]"
     ]
    },
    {
     "name": "stdout",
     "output_type": "stream",
     "text": [
      "Saved /scratch/project_2007251/hel1964/output/result_masks_33.npy\n"
     ]
    },
    {
     "name": "stderr",
     "output_type": "stream",
     "text": [
      " 71%|███████   | 35841/50400 [46:42<2:57:22,  1.37it/s]"
     ]
    },
    {
     "name": "stdout",
     "output_type": "stream",
     "text": [
      "Saved /scratch/project_2007251/hel1964/output/result_masks_34.npy\n"
     ]
    },
    {
     "name": "stderr",
     "output_type": "stream",
     "text": [
      " 73%|███████▎  | 36869/50400 [48:06<1:28:10,  2.56it/s]"
     ]
    },
    {
     "name": "stdout",
     "output_type": "stream",
     "text": [
      "Saved /scratch/project_2007251/hel1964/output/result_masks_35.npy\n"
     ]
    },
    {
     "name": "stderr",
     "output_type": "stream",
     "text": [
      " 75%|███████▌  | 37891/50400 [49:21<1:34:51,  2.20it/s]"
     ]
    },
    {
     "name": "stdout",
     "output_type": "stream",
     "text": [
      "Saved /scratch/project_2007251/hel1964/output/result_masks_36.npy\n"
     ]
    },
    {
     "name": "stderr",
     "output_type": "stream",
     "text": [
      " 77%|███████▋  | 38914/50400 [50:37<1:06:38,  2.87it/s]"
     ]
    },
    {
     "name": "stdout",
     "output_type": "stream",
     "text": [
      "Saved /scratch/project_2007251/hel1964/output/result_masks_37.npy\n"
     ]
    },
    {
     "name": "stderr",
     "output_type": "stream",
     "text": [
      " 79%|███████▉  | 39937/50400 [51:48<1:26:52,  2.01it/s]"
     ]
    },
    {
     "name": "stdout",
     "output_type": "stream",
     "text": [
      "Saved /scratch/project_2007251/hel1964/output/result_masks_38.npy\n"
     ]
    },
    {
     "name": "stderr",
     "output_type": "stream",
     "text": [
      " 81%|████████▏ | 40962/50400 [52:58<1:13:24,  2.14it/s]"
     ]
    },
    {
     "name": "stdout",
     "output_type": "stream",
     "text": [
      "Saved /scratch/project_2007251/hel1964/output/result_masks_39.npy\n"
     ]
    },
    {
     "name": "stderr",
     "output_type": "stream",
     "text": [
      " 83%|████████▎ | 41987/50400 [54:09<1:15:13,  1.86it/s]"
     ]
    },
    {
     "name": "stdout",
     "output_type": "stream",
     "text": [
      "Saved /scratch/project_2007251/hel1964/output/result_masks_40.npy\n"
     ]
    },
    {
     "name": "stderr",
     "output_type": "stream",
     "text": [
      " 85%|████████▌ | 43008/50400 [55:20<56:36,  2.18it/s]  "
     ]
    },
    {
     "name": "stdout",
     "output_type": "stream",
     "text": [
      "Saved /scratch/project_2007251/hel1964/output/result_masks_41.npy\n"
     ]
    },
    {
     "name": "stderr",
     "output_type": "stream",
     "text": [
      " 87%|████████▋ | 44030/50400 [56:29<04:27, 23.83it/s]"
     ]
    },
    {
     "name": "stdout",
     "output_type": "stream",
     "text": [
      "Saved /scratch/project_2007251/hel1964/output/result_masks_42.npy\n"
     ]
    },
    {
     "name": "stderr",
     "output_type": "stream",
     "text": [
      " 89%|████████▉ | 45058/50400 [57:50<41:00,  2.17it/s]"
     ]
    },
    {
     "name": "stdout",
     "output_type": "stream",
     "text": [
      "Saved /scratch/project_2007251/hel1964/output/result_masks_43.npy\n"
     ]
    },
    {
     "name": "stderr",
     "output_type": "stream",
     "text": [
      " 91%|█████████▏| 46083/50400 [59:04<26:29,  2.72it/s]"
     ]
    },
    {
     "name": "stdout",
     "output_type": "stream",
     "text": [
      "Saved /scratch/project_2007251/hel1964/output/result_masks_44.npy\n"
     ]
    },
    {
     "name": "stderr",
     "output_type": "stream",
     "text": [
      " 93%|█████████▎| 47108/50400 [1:00:19<26:22,  2.08it/s]"
     ]
    },
    {
     "name": "stdout",
     "output_type": "stream",
     "text": [
      "Saved /scratch/project_2007251/hel1964/output/result_masks_45.npy\n"
     ]
    },
    {
     "name": "stderr",
     "output_type": "stream",
     "text": [
      " 96%|█████████▌| 48132/50400 [1:01:33<13:45,  2.75it/s]"
     ]
    },
    {
     "name": "stdout",
     "output_type": "stream",
     "text": [
      "Saved /scratch/project_2007251/hel1964/output/result_masks_46.npy\n"
     ]
    },
    {
     "name": "stderr",
     "output_type": "stream",
     "text": [
      " 98%|█████████▊| 49154/50400 [1:02:46<08:34,  2.42it/s]"
     ]
    },
    {
     "name": "stdout",
     "output_type": "stream",
     "text": [
      "Saved /scratch/project_2007251/hel1964/output/result_masks_47.npy\n"
     ]
    },
    {
     "name": "stderr",
     "output_type": "stream",
     "text": [
      "100%|█████████▉| 50179/50400 [1:04:05<01:39,  2.21it/s]"
     ]
    },
    {
     "name": "stdout",
     "output_type": "stream",
     "text": [
      "Saved /scratch/project_2007251/hel1964/output/result_masks_48.npy\n"
     ]
    },
    {
     "name": "stderr",
     "output_type": "stream",
     "text": [
      "100%|██████████| 50400/50400 [1:04:19<00:00, 13.06it/s]\n"
     ]
    },
    {
     "name": "stdout",
     "output_type": "stream",
     "text": [
      "Saved /scratch/project_2007251/hel1964/output/result_masks_49.npy\n"
     ]
    }
   ],
   "source": [
    "batch_size = 128\n",
    "image_batch = []\n",
    "input_batch = []\n",
    "mask_batch = []\n",
    "result_masks = []\n",
    "file_num = 0\n",
    "total_size = 0\n",
    "\n",
    "index = 0\n",
    "\n",
    "for i in tqdm(range(len(test_dataset))):\n",
    "    # image_batch.append(image[i])\n",
    "    input_batch.append(test_dataset[i][0])\n",
    "\n",
    "    if len(input_batch) == batch_size:\n",
    "        x_tensor = torch.from_numpy(np.array(input_batch)).to(DEVICE)\n",
    "        # print(x_tensor.shape)\n",
    "        pr_mask_batch = model.predict(x_tensor).squeeze().cpu().numpy().round()\n",
    "        result_masks.append(pr_mask_batch)\n",
    "        total_size += pr_mask_batch.nbytes\n",
    "        \n",
    "        index += 1\n",
    "        \n",
    "        # break\n",
    "        if total_size > 1e9:\n",
    "            save_masks(result_masks)\n",
    "            result_masks = []\n",
    "            total_size = 0\n",
    "\n",
    "        input_batch = []\n",
    "        mask_batch = []\n",
    "save_masks(result_masks)"
   ]
  },
  {
   "cell_type": "code",
   "execution_count": 10,
   "metadata": {},
   "outputs": [
    {
     "name": "stderr",
     "output_type": "stream",
     "text": [
      " 60%|██████    | 60/100 [00:00<00:00, 758006.75it/s]\n"
     ]
    }
   ],
   "source": [
    "# # helper function for data visualization\n",
    "# def to_image(x, **kwargs):\n",
    "#     if len(x.shape) == 3:\n",
    "#         return x.transpose(1, 2, 0)\n",
    "#     else: return x\n",
    "\n",
    "# def visualize_batch(img, msk):\n",
    "#     for i in range(img.shape[0]):\n",
    "#         plt.figure(figsize=(16, 5))\n",
    "#         plt.subplot(1, 2, 1)\n",
    "#         plt.imshow(to_image(img[i]))\n",
    "#         plt.subplot(1, 2, 2)\n",
    "#         plt.imshow(to_image(msk[0][i]))\n",
    "#         plt.show()"
   ]
  },
  {
   "cell_type": "code",
   "execution_count": null,
   "metadata": {},
   "outputs": [],
   "source": [
    "# for i in image_batch:\n",
    "#     plt.figure()\n",
    "#     plt.imshow(to_image(i))\n",
    "#     plt.show()"
   ]
  },
  {
   "cell_type": "code",
   "execution_count": null,
   "metadata": {},
   "outputs": [],
   "source": [
    "# img = np.array(input_batch.copy())\n",
    "# msk = result_masks.copy()\n",
    "# visualize_batch(img, msk)"
   ]
  },
  {
   "cell_type": "code",
   "execution_count": null,
   "metadata": {},
   "outputs": [],
   "source": [
    "# for i in range(len(result_masks[0])):\n",
    "#     plt.figure()\n",
    "#     plt.imshow(result_masks[0][i])\n",
    "#     plt.show()"
   ]
  },
  {
   "cell_type": "code",
   "execution_count": null,
   "metadata": {},
   "outputs": [],
   "source": [
    "# import time\n",
    "\n",
    "# for i in range(20):\n",
    "#     n = np.random.choice(len(test_dataset))\n",
    "\n",
    "#     t1 = time.time()\n",
    "    \n",
    "#     image_vis = test_dataset_vis[n][0].astype('uint8')\n",
    "#     image, gt_mask = test_dataset[n]\n",
    "\n",
    "#     gt_mask = gt_mask.squeeze()\n",
    "\n",
    "#     x_tensor = torch.from_numpy(image).to(DEVICE).unsqueeze(0)\n",
    "#     pr_mask = model.predict(x_tensor)\n",
    "#     pr_mask = (pr_mask.squeeze().cpu().numpy().round())\n",
    "\n",
    "#     print(time.time()-t1)\n",
    "    \n",
    "#     visualize(image=image_vis,\n",
    "#               ground_truth_mask=gt_mask,\n",
    "#               predicted_mask=pr_mask)\n"
   ]
  },
  {
   "cell_type": "code",
   "execution_count": null,
   "metadata": {},
   "outputs": [],
   "source": []
  }
 ],
 "metadata": {
  "kernelspec": {
   "display_name": "Python 3 (ipykernel)",
   "language": "python",
   "name": "python3"
  },
  "language_info": {
   "codemirror_mode": {
    "name": "ipython",
    "version": 3
   },
   "file_extension": ".py",
   "mimetype": "text/x-python",
   "name": "python",
   "nbconvert_exporter": "python",
   "pygments_lexer": "ipython3",
   "version": "3.9.13"
  }
 },
 "nbformat": 4,
 "nbformat_minor": 4
}
