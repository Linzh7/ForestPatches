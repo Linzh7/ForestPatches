{
 "cells": [
  {
   "cell_type": "code",
   "execution_count": 1,
   "id": "1b487e99-157d-4b92-9cf3-94c6f365f4eb",
   "metadata": {},
   "outputs": [],
   "source": [
    "import sys\n",
    "sys.path.append('..')\n",
    "import linzhutils as lu\n",
    "import os.path as op\n",
    "import shutil\n",
    "from tqdm import tqdm"
   ]
  },
  {
   "cell_type": "code",
   "execution_count": 2,
   "id": "bca840c6-c9a3-40ee-aa6e-7580b627b1f7",
   "metadata": {},
   "outputs": [],
   "source": [
    "PATH = 'hel2019'"
   ]
  },
  {
   "cell_type": "code",
   "execution_count": 3,
   "id": "0ff665a4-7072-4733-a853-3246b6b83e9f",
   "metadata": {},
   "outputs": [],
   "source": [
    "labelList = lu.getFolderList(op.join(PATH, 'color_masks'))\n",
    "imageList = lu.getFileList(op.join(PATH,'images'))\n",
    "maskList = []\n",
    "for label in labelList:\n",
    "    maskList.append(lu.getFileList(op.join(PATH,'color_masks',label)))"
   ]
  },
  {
   "cell_type": "code",
   "execution_count": 4,
   "id": "c8590186-556e-493b-b125-de323688ff1f",
   "metadata": {},
   "outputs": [
    {
     "name": "stdout",
     "output_type": "stream",
     "text": [
      "Everything seems fine.\n"
     ]
    }
   ],
   "source": [
    "OKAY = True\n",
    "sortedList = sorted(imageList)\n",
    "for i in maskList:\n",
    "    if sortedList != sorted(i):\n",
    "        print(f'Error: {i}')\n",
    "        OKAY = False\n",
    "if OKAY:\n",
    "    print('Everything seems fine.')"
   ]
  },
  {
   "cell_type": "code",
   "execution_count": 25,
   "id": "a10b005d-2473-483e-aae7-3e9b323c8a51",
   "metadata": {},
   "outputs": [
    {
     "name": "stderr",
     "output_type": "stream",
     "text": [
      "100%|██████████| 10079/10079 [00:03<00:00, 2655.06it/s]\n"
     ]
    }
   ],
   "source": [
    "lu.moveFileTo('/scratch/project_2007251/data/hel2019/val_kussi_maskset',\n",
    "              '/scratch/project_2007251/data/hel20xx/kussi_masks',\n",
    "              '*')"
   ]
  },
  {
   "cell_type": "code",
   "execution_count": 2,
   "id": "d52b9b33-a393-4358-8eae-43573dad1170",
   "metadata": {},
   "outputs": [],
   "source": [
    "a = sorted(lu.getFileList('/scratch/project_2007251/data/hel20xx/kussi_masks'))"
   ]
  },
  {
   "cell_type": "code",
   "execution_count": 3,
   "id": "e120fc16-8928-4fc3-a9b4-e7b162776166",
   "metadata": {},
   "outputs": [],
   "source": [
    "b = sorted(lu.getFileList('/scratch/project_2007251/data/hel20xx/images'))"
   ]
  },
  {
   "cell_type": "code",
   "execution_count": 21,
   "id": "3928fdb2-4824-4164-8f9b-313c7634380a",
   "metadata": {},
   "outputs": [
    {
     "name": "stderr",
     "output_type": "stream",
     "text": [
      "100%|██████████| 43200/43200 [00:00<00:00, 2938931.32it/s]"
     ]
    },
    {
     "name": "stdout",
     "output_type": "stream",
     "text": [
      "10800\n"
     ]
    },
    {
     "name": "stderr",
     "output_type": "stream",
     "text": [
      "\n"
     ]
    }
   ],
   "source": [
    "# src = '/scratch/project_2007251/data/hel20xx/images'\n",
    "# dst = '/scratch/project_2007251/data/hel2019/kussi_imageset'\n",
    "count = 0\n",
    "for i in tqdm(ls):\n",
    "    if i[:7] == 'hel2011':\n",
    "        count += 1\n",
    "        # shutil.move(op.join(src, i), op.join(dst, i))\n",
    "print(count)"
   ]
  },
  {
   "cell_type": "code",
   "execution_count": 4,
   "id": "182576b9-74c9-4ea7-b97b-b7c8af734e6b",
   "metadata": {},
   "outputs": [
    {
     "data": {
      "text/plain": [
       "True"
      ]
     },
     "execution_count": 4,
     "metadata": {},
     "output_type": "execute_result"
    }
   ],
   "source": [
    "a == b"
   ]
  },
  {
   "cell_type": "code",
   "execution_count": 6,
   "id": "17ab275f-80dc-4438-b037-08648dda28e1",
   "metadata": {},
   "outputs": [
    {
     "data": {
      "text/plain": [
       "53279"
      ]
     },
     "execution_count": 6,
     "metadata": {},
     "output_type": "execute_result"
    }
   ],
   "source": [
    "len(b)"
   ]
  },
  {
   "cell_type": "code",
   "execution_count": 17,
   "id": "e7eb556d-c544-4531-873a-39a94b1b749e",
   "metadata": {},
   "outputs": [],
   "source": [
    "file_list = lu.getFileList('/scratch/project_2007251/data/hel20xx/images')"
   ]
  },
  {
   "cell_type": "code",
   "execution_count": 18,
   "id": "5181ec5d-e68d-4278-9424-f951251fb9a6",
   "metadata": {},
   "outputs": [],
   "source": [
    "import cv2\n",
    "def check_image_size_and_channels(images_list, path):\n",
    "    for image_path in tqdm(images_list):\n",
    "        image = cv2.imread(op.join(path, image_path))\n",
    "        if image is not None:\n",
    "            height, width, channels = image.shape\n",
    "            if height != 512 or width != 512:\n",
    "                print(f\"{image_path} is not 512x512.\")\n",
    "            if channels != 3:\n",
    "                print(f\"{image_path} does not have 3 channels.\")\n",
    "                \n",
    "\n",
    "        else:\n",
    "            print(f\"Failed to read {image_path}.\")"
   ]
  },
  {
   "cell_type": "code",
   "execution_count": 19,
   "id": "6122130c-0fdf-4c80-bba3-378e26d481cf",
   "metadata": {},
   "outputs": [],
   "source": [
    "PATH = '/scratch/project_2007251/data/hel20xx/images'"
   ]
  },
  {
   "cell_type": "code",
   "execution_count": 20,
   "id": "340321c6-d438-4ea5-a957-85dbac67c051",
   "metadata": {},
   "outputs": [
    {
     "name": "stderr",
     "output_type": "stream",
     "text": [
      "100%|██████████| 42624/42624 [38:29<00:00, 18.46it/s]  \n"
     ]
    }
   ],
   "source": [
    "check_image_size_and_channels(file_list, PATH)"
   ]
  },
  {
   "cell_type": "code",
   "execution_count": null,
   "id": "c3c4258d-e8c1-4691-a42c-2ea4610d9bf5",
   "metadata": {},
   "outputs": [],
   "source": []
  }
 ],
 "metadata": {
  "kernelspec": {
   "display_name": "Python 3 (ipykernel)",
   "language": "python",
   "name": "python3"
  },
  "language_info": {
   "codemirror_mode": {
    "name": "ipython",
    "version": 3
   },
   "file_extension": ".py",
   "mimetype": "text/x-python",
   "name": "python",
   "nbconvert_exporter": "python",
   "pygments_lexer": "ipython3",
   "version": "3.9.13"
  }
 },
 "nbformat": 4,
 "nbformat_minor": 5
}
