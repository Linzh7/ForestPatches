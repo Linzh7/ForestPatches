{
 "cells": [
  {
   "cell_type": "code",
   "execution_count": 1,
   "id": "1b487e99-157d-4b92-9cf3-94c6f365f4eb",
   "metadata": {},
   "outputs": [],
   "source": [
    "import sys\n",
    "sys.path.append('..')\n",
    "import linzhutils as lu\n",
    "import os.path as op"
   ]
  },
  {
   "cell_type": "code",
   "execution_count": 2,
   "id": "bca840c6-c9a3-40ee-aa6e-7580b627b1f7",
   "metadata": {},
   "outputs": [],
   "source": [
    "PATH = 'hel2019'"
   ]
  },
  {
   "cell_type": "code",
   "execution_count": 3,
   "id": "0ff665a4-7072-4733-a853-3246b6b83e9f",
   "metadata": {},
   "outputs": [],
   "source": [
    "labelList = lu.getFolderList(op.join(PATH, 'color_masks'))\n",
    "imageList = lu.getFileList(op.join(PATH,'images'))\n",
    "maskList = []\n",
    "for label in labelList:\n",
    "    maskList.append(lu.getFileList(op.join(PATH,'color_masks',label)))"
   ]
  },
  {
   "cell_type": "code",
   "execution_count": 4,
   "id": "c8590186-556e-493b-b125-de323688ff1f",
   "metadata": {},
   "outputs": [
    {
     "name": "stdout",
     "output_type": "stream",
     "text": [
      "Everything seems fine.\n"
     ]
    }
   ],
   "source": [
    "OKAY = True\n",
    "sortedList = sorted(imageList)\n",
    "for i in maskList:\n",
    "    if sortedList != sorted(i):\n",
    "        print(f'Error: {i}')\n",
    "        OKAY = False\n",
    "if OKAY:\n",
    "    print('Everything seems fine.')"
   ]
  },
  {
   "cell_type": "code",
   "execution_count": null,
   "id": "a10b005d-2473-483e-aae7-3e9b323c8a51",
   "metadata": {},
   "outputs": [],
   "source": []
  }
 ],
 "metadata": {
  "kernelspec": {
   "display_name": "Python 3 (ipykernel)",
   "language": "python",
   "name": "python3"
  },
  "language_info": {
   "codemirror_mode": {
    "name": "ipython",
    "version": 3
   },
   "file_extension": ".py",
   "mimetype": "text/x-python",
   "name": "python",
   "nbconvert_exporter": "python",
   "pygments_lexer": "ipython3",
   "version": "3.9.13"
  }
 },
 "nbformat": 4,
 "nbformat_minor": 5
}
