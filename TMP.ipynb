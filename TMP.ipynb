{
 "cells": [
  {
   "cell_type": "code",
   "execution_count": 1,
   "id": "f8149cd3-5f6c-433c-9de9-cf01404ffa5a",
   "metadata": {},
   "outputs": [],
   "source": [
    "import numpy as np"
   ]
  },
  {
   "cell_type": "code",
   "execution_count": 24,
   "id": "d61457ff-e679-44bd-bce8-4ae855322514",
   "metadata": {},
   "outputs": [
    {
     "data": {
      "text/plain": [
       "array(['/scratch/project_2007251/2019/hel2019/output/hel2019_00_00.png',\n",
       "       '/scratch/project_2007251/2019/hel2019/output/hel2019_00_01.png',\n",
       "       '/scratch/project_2007251/2019/hel2019/output/hel2019_00_02.png',\n",
       "       '/scratch/project_2007251/2019/hel2019/output/hel2019_00_03.png',\n",
       "       '/scratch/project_2007251/2019/hel2019/output/hel2019_00_04.png',\n",
       "       '/scratch/project_2007251/2019/hel2019/output/hel2019_00_05.png',\n",
       "       '/scratch/project_2007251/2019/hel2019/output/hel2019_00_06.png',\n",
       "       '/scratch/project_2007251/2019/hel2019/output/hel2019_00_07.png',\n",
       "       '/scratch/project_2007251/2019/hel2019/output/hel2019_00_08.png',\n",
       "       '/scratch/project_2007251/2019/hel2019/output/hel2019_00_09.png'],\n",
       "      dtype='<U64')"
      ]
     },
     "execution_count": 24,
     "metadata": {},
     "output_type": "execute_result"
    }
   ],
   "source": [
    "np.load('/scratch/project_2007251/2019/results/file_list.npy')[:10]"
   ]
  },
  {
   "cell_type": "code",
   "execution_count": 21,
   "id": "07d1dc4f-ff73-4a86-bdb0-6ff7c04798a4",
   "metadata": {},
   "outputs": [],
   "source": [
    "a = np.array(range(1000)).reshape(-1,10,10,10)"
   ]
  },
  {
   "cell_type": "code",
   "execution_count": 22,
   "id": "252dfc98-41ef-4285-95d0-de8a3dcea71a",
   "metadata": {},
   "outputs": [
    {
     "data": {
      "text/plain": [
       "(1, 10, 10, 10)"
      ]
     },
     "execution_count": 22,
     "metadata": {},
     "output_type": "execute_result"
    }
   ],
   "source": [
    "a.shape"
   ]
  },
  {
   "cell_type": "code",
   "execution_count": 12,
   "id": "06c45050-b4e5-494a-b6ce-e645e1e4c96b",
   "metadata": {},
   "outputs": [],
   "source": [
    "concatenated = np.concatenate(a, axis=0)\n",
    "reshaped = concatenated.reshape((-1, 512, 512))"
   ]
  },
  {
   "cell_type": "code",
   "execution_count": 13,
   "id": "3e6b27c7-5ee4-4a8d-8ac2-93ed6a4f139d",
   "metadata": {},
   "outputs": [
    {
     "data": {
      "text/plain": [
       "(1024, 512, 512)"
      ]
     },
     "execution_count": 13,
     "metadata": {},
     "output_type": "execute_result"
    }
   ],
   "source": [
    "reshaped.shape"
   ]
  },
  {
   "cell_type": "code",
   "execution_count": 18,
   "id": "c09022e8-c5de-45ad-935f-74cf6cbc07d4",
   "metadata": {},
   "outputs": [
    {
     "data": {
      "text/plain": [
       "(10, 10, 10)"
      ]
     },
     "execution_count": 18,
     "metadata": {},
     "output_type": "execute_result"
    }
   ],
   "source": [
    "np.concatenate(a, axis=0).shape"
   ]
  },
  {
   "cell_type": "code",
   "execution_count": 21,
   "id": "cc0d0d62-2b21-4c85-88d9-751255d35bbe",
   "metadata": {},
   "outputs": [],
   "source": [
    "def countElements(arr,name):\n",
    "    total_elements = arr.size\n",
    "    num_ones = np.sum(arr == 1)\n",
    "    num_zeros = np.sum(arr == 0)\n",
    "    print(f\"File: {name}, total: {total_elements}, 1: {num_ones}, 0: {num_zeros}, ratio(1to0): {num_ones/num_zeros:.5f}\")"
   ]
  },
  {
   "cell_type": "code",
   "execution_count": 22,
   "id": "d2ae8231-30c7-407e-85d4-d0846671a748",
   "metadata": {},
   "outputs": [
    {
     "name": "stdout",
     "output_type": "stream",
     "text": [
      "File: 0, total: 268435456, 1: 145412, 0: 268290044, ratio(1to0): 0.00054\n",
      "File: 1, total: 268435456, 1: 706002, 0: 267729454, ratio(1to0): 0.00264\n",
      "File: 2, total: 268435456, 1: 32926, 0: 268402530, ratio(1to0): 0.00012\n",
      "File: 3, total: 268435456, 1: 841335, 0: 267594121, ratio(1to0): 0.00314\n",
      "File: 4, total: 268435456, 1: 216200, 0: 268219256, ratio(1to0): 0.00081\n",
      "File: 5, total: 268435456, 1: 220640, 0: 268214816, ratio(1to0): 0.00082\n",
      "File: 6, total: 268435456, 1: 10200, 0: 268425256, ratio(1to0): 0.00004\n",
      "File: 7, total: 268435456, 1: 928097, 0: 267507359, ratio(1to0): 0.00347\n",
      "File: 8, total: 268435456, 1: 703899, 0: 267731557, ratio(1to0): 0.00263\n",
      "File: 9, total: 268435456, 1: 133353, 0: 268302103, ratio(1to0): 0.00050\n",
      "File: 10, total: 268435456, 1: 15165, 0: 268420291, ratio(1to0): 0.00006\n",
      "File: 11, total: 268435456, 1: 18177, 0: 268417279, ratio(1to0): 0.00007\n",
      "File: 12, total: 268435456, 1: 62156, 0: 268373300, ratio(1to0): 0.00023\n",
      "File: 13, total: 268435456, 1: 30044, 0: 268405412, ratio(1to0): 0.00011\n",
      "File: 14, total: 268435456, 1: 28719, 0: 268406737, ratio(1to0): 0.00011\n",
      "File: 15, total: 268435456, 1: 14558, 0: 268420898, ratio(1to0): 0.00005\n",
      "File: 16, total: 268435456, 1: 23769, 0: 268411687, ratio(1to0): 0.00009\n",
      "File: 17, total: 268435456, 1: 5616, 0: 268429840, ratio(1to0): 0.00002\n",
      "File: 18, total: 268435456, 1: 21147, 0: 268414309, ratio(1to0): 0.00008\n",
      "File: 19, total: 268435456, 1: 15861, 0: 268419595, ratio(1to0): 0.00006\n",
      "File: 20, total: 268435456, 1: 19814, 0: 268415642, ratio(1to0): 0.00007\n",
      "File: 21, total: 268435456, 1: 33813, 0: 268401643, ratio(1to0): 0.00013\n",
      "File: 22, total: 268435456, 1: 11641, 0: 268423815, ratio(1to0): 0.00004\n",
      "File: 23, total: 268435456, 1: 3837, 0: 268431619, ratio(1to0): 0.00001\n",
      "File: 24, total: 268435456, 1: 266692, 0: 268168764, ratio(1to0): 0.00099\n",
      "File: 25, total: 268435456, 1: 31867, 0: 268403589, ratio(1to0): 0.00012\n",
      "File: 26, total: 268435456, 1: 10678, 0: 268424778, ratio(1to0): 0.00004\n",
      "File: 27, total: 268435456, 1: 20112, 0: 268415344, ratio(1to0): 0.00007\n",
      "File: 28, total: 268435456, 1: 273748, 0: 268161708, ratio(1to0): 0.00102\n",
      "File: 29, total: 268435456, 1: 18833, 0: 268416623, ratio(1to0): 0.00007\n",
      "File: 30, total: 268435456, 1: 9781, 0: 268425675, ratio(1to0): 0.00004\n",
      "File: 31, total: 268435456, 1: 250043, 0: 268185413, ratio(1to0): 0.00093\n",
      "File: 32, total: 268435456, 1: 54795, 0: 268380661, ratio(1to0): 0.00020\n",
      "File: 33, total: 268435456, 1: 105271, 0: 268330185, ratio(1to0): 0.00039\n",
      "File: 34, total: 268435456, 1: 94173, 0: 268341283, ratio(1to0): 0.00035\n",
      "File: 35, total: 268435456, 1: 32454, 0: 268403002, ratio(1to0): 0.00012\n",
      "File: 36, total: 268435456, 1: 39617, 0: 268395839, ratio(1to0): 0.00015\n",
      "File: 37, total: 268435456, 1: 43143, 0: 268392313, ratio(1to0): 0.00016\n",
      "File: 38, total: 268435456, 1: 13130, 0: 268422326, ratio(1to0): 0.00005\n",
      "File: 39, total: 268435456, 1: 54688, 0: 268380768, ratio(1to0): 0.00020\n",
      "File: 40, total: 268435456, 1: 117646, 0: 268317810, ratio(1to0): 0.00044\n",
      "File: 41, total: 268435456, 1: 335920, 0: 268099536, ratio(1to0): 0.00125\n",
      "File: 42, total: 268435456, 1: 436181, 0: 267999275, ratio(1to0): 0.00163\n",
      "File: 43, total: 268435456, 1: 618617, 0: 267816839, ratio(1to0): 0.00231\n",
      "File: 44, total: 268435456, 1: 28563, 0: 268406893, ratio(1to0): 0.00011\n",
      "File: 45, total: 268435456, 1: 664607, 0: 267770849, ratio(1to0): 0.00248\n",
      "File: 46, total: 268435456, 1: 262957, 0: 268172499, ratio(1to0): 0.00098\n",
      "File: 47, total: 268435456, 1: 71968, 0: 268363488, ratio(1to0): 0.00027\n",
      "File: 48, total: 268435456, 1: 333130, 0: 268102326, ratio(1to0): 0.00124\n",
      "File: 49, total: 33554432, 1: 136652, 0: 33417780, ratio(1to0): 0.00409\n"
     ]
    }
   ],
   "source": [
    "for i in range(0,50):\n",
    "    masks = np.load(f'/scratch/project_2007251/2019/results/result_masks_{i}.npy')\n",
    "    countElements(masks, i)"
   ]
  },
  {
   "cell_type": "code",
   "execution_count": 9,
   "id": "c9d0d7e3-7e62-4aed-badd-7124074997ed",
   "metadata": {},
   "outputs": [],
   "source": []
  },
  {
   "cell_type": "code",
   "execution_count": null,
   "id": "8b3b0ed3-8ce3-4acf-bbdb-e7c5da091ac3",
   "metadata": {},
   "outputs": [],
   "source": []
  }
 ],
 "metadata": {
  "kernelspec": {
   "display_name": "Python 3 (ipykernel)",
   "language": "python",
   "name": "python3"
  },
  "language_info": {
   "codemirror_mode": {
    "name": "ipython",
    "version": 3
   },
   "file_extension": ".py",
   "mimetype": "text/x-python",
   "name": "python",
   "nbconvert_exporter": "python",
   "pygments_lexer": "ipython3",
   "version": "3.9.13"
  }
 },
 "nbformat": 4,
 "nbformat_minor": 5
}
