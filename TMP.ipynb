{
 "cells": [
  {
   "cell_type": "code",
   "execution_count": 1,
   "id": "f8149cd3-5f6c-433c-9de9-cf01404ffa5a",
   "metadata": {},
   "outputs": [],
   "source": [
    "import numpy as np"
   ]
  },
  {
   "cell_type": "code",
   "execution_count": 24,
   "id": "d61457ff-e679-44bd-bce8-4ae855322514",
   "metadata": {},
   "outputs": [
    {
     "data": {
      "text/plain": [
       "array(['/scratch/project_2007251/2019/hel2019/output/hel2019_00_00.png',\n",
       "       '/scratch/project_2007251/2019/hel2019/output/hel2019_00_01.png',\n",
       "       '/scratch/project_2007251/2019/hel2019/output/hel2019_00_02.png',\n",
       "       '/scratch/project_2007251/2019/hel2019/output/hel2019_00_03.png',\n",
       "       '/scratch/project_2007251/2019/hel2019/output/hel2019_00_04.png',\n",
       "       '/scratch/project_2007251/2019/hel2019/output/hel2019_00_05.png',\n",
       "       '/scratch/project_2007251/2019/hel2019/output/hel2019_00_06.png',\n",
       "       '/scratch/project_2007251/2019/hel2019/output/hel2019_00_07.png',\n",
       "       '/scratch/project_2007251/2019/hel2019/output/hel2019_00_08.png',\n",
       "       '/scratch/project_2007251/2019/hel2019/output/hel2019_00_09.png'],\n",
       "      dtype='<U64')"
      ]
     },
     "execution_count": 24,
     "metadata": {},
     "output_type": "execute_result"
    }
   ],
   "source": [
    "np.load('/scratch/project_2007251/2019/results/file_list.npy')[:10]"
   ]
  },
  {
   "cell_type": "code",
   "execution_count": 21,
   "id": "07d1dc4f-ff73-4a86-bdb0-6ff7c04798a4",
   "metadata": {},
   "outputs": [],
   "source": [
    "a = np.array(range(1000)).reshape(-1,10,10,10)"
   ]
  },
  {
   "cell_type": "code",
   "execution_count": 22,
   "id": "252dfc98-41ef-4285-95d0-de8a3dcea71a",
   "metadata": {},
   "outputs": [
    {
     "data": {
      "text/plain": [
       "(1, 10, 10, 10)"
      ]
     },
     "execution_count": 22,
     "metadata": {},
     "output_type": "execute_result"
    }
   ],
   "source": [
    "a.shape"
   ]
  },
  {
   "cell_type": "code",
   "execution_count": 12,
   "id": "06c45050-b4e5-494a-b6ce-e645e1e4c96b",
   "metadata": {},
   "outputs": [],
   "source": [
    "concatenated = np.concatenate(a, axis=0)\n",
    "reshaped = concatenated.reshape((-1, 512, 512))"
   ]
  },
  {
   "cell_type": "code",
   "execution_count": 13,
   "id": "3e6b27c7-5ee4-4a8d-8ac2-93ed6a4f139d",
   "metadata": {},
   "outputs": [
    {
     "data": {
      "text/plain": [
       "(1024, 512, 512)"
      ]
     },
     "execution_count": 13,
     "metadata": {},
     "output_type": "execute_result"
    }
   ],
   "source": [
    "reshaped.shape"
   ]
  },
  {
   "cell_type": "code",
   "execution_count": 18,
   "id": "c09022e8-c5de-45ad-935f-74cf6cbc07d4",
   "metadata": {},
   "outputs": [
    {
     "data": {
      "text/plain": [
       "(10, 10, 10)"
      ]
     },
     "execution_count": 18,
     "metadata": {},
     "output_type": "execute_result"
    }
   ],
   "source": [
    "np.concatenate(a, axis=0).shape"
   ]
  },
  {
   "cell_type": "code",
   "execution_count": 2,
   "id": "cc0d0d62-2b21-4c85-88d9-751255d35bbe",
   "metadata": {},
   "outputs": [],
   "source": [
    "def countElements(arr,name):\n",
    "    total_elements = arr.size\n",
    "    num_ones = np.sum(arr == 1)\n",
    "    num_zeros = np.sum(arr == 0)\n",
    "    print(f\"File: {name}, total: {total_elements}, 1: {num_ones}, 0: {num_zeros}, ratio(1to0): {num_ones/num_zeros:.5f}\")"
   ]
  },
  {
   "cell_type": "code",
   "execution_count": 3,
   "id": "d2ae8231-30c7-407e-85d4-d0846671a748",
   "metadata": {},
   "outputs": [
    {
     "name": "stdout",
     "output_type": "stream",
     "text": [
      "File: 0, total: 268435456, 1: 2473517, 0: 265961939, ratio(1to0): 0.00930\n",
      "File: 1, total: 268435456, 1: 97801422, 0: 170634034, ratio(1to0): 0.57316\n",
      "File: 2, total: 268435456, 1: 122531319, 0: 145904137, ratio(1to0): 0.83981\n",
      "File: 3, total: 268435456, 1: 102064024, 0: 166371432, ratio(1to0): 0.61347\n",
      "File: 4, total: 268435456, 1: 71024100, 0: 197411356, ratio(1to0): 0.35978\n",
      "File: 5, total: 268435456, 1: 65673934, 0: 202761522, ratio(1to0): 0.32390\n",
      "File: 6, total: 268435456, 1: 49854864, 0: 218580592, ratio(1to0): 0.22808\n",
      "File: 7, total: 268435456, 1: 38706995, 0: 229728461, ratio(1to0): 0.16849\n",
      "File: 8, total: 268435456, 1: 46852120, 0: 221583336, ratio(1to0): 0.21144\n",
      "File: 9, total: 268435456, 1: 42901580, 0: 225533876, ratio(1to0): 0.19022\n",
      "File: 10, total: 268435456, 1: 42800237, 0: 225635219, ratio(1to0): 0.18969\n",
      "File: 11, total: 268435456, 1: 47170173, 0: 221265283, ratio(1to0): 0.21318\n",
      "File: 12, total: 268435456, 1: 51836625, 0: 216598831, ratio(1to0): 0.23932\n",
      "File: 13, total: 268435456, 1: 48939023, 0: 219496433, ratio(1to0): 0.22296\n",
      "File: 14, total: 268435456, 1: 55733563, 0: 212701893, ratio(1to0): 0.26203\n",
      "File: 15, total: 268435456, 1: 51925420, 0: 216510036, ratio(1to0): 0.23983\n",
      "File: 16, total: 268435456, 1: 57908628, 0: 210526828, ratio(1to0): 0.27507\n",
      "File: 17, total: 268435456, 1: 64142434, 0: 204293022, ratio(1to0): 0.31397\n",
      "File: 18, total: 268435456, 1: 72455418, 0: 195980038, ratio(1to0): 0.36971\n",
      "File: 19, total: 268435456, 1: 77482086, 0: 190953370, ratio(1to0): 0.40576\n",
      "File: 20, total: 268435456, 1: 79881739, 0: 188553717, ratio(1to0): 0.42366\n",
      "File: 21, total: 268435456, 1: 95896403, 0: 172539053, ratio(1to0): 0.55580\n",
      "File: 22, total: 268435456, 1: 105361983, 0: 163073473, ratio(1to0): 0.64610\n",
      "File: 23, total: 268435456, 1: 91296451, 0: 177139005, ratio(1to0): 0.51539\n",
      "File: 24, total: 268435456, 1: 107941571, 0: 160493885, ratio(1to0): 0.67256\n",
      "File: 25, total: 268435456, 1: 89989274, 0: 178446182, ratio(1to0): 0.50429\n",
      "File: 26, total: 268435456, 1: 89733598, 0: 178701858, ratio(1to0): 0.50214\n",
      "File: 27, total: 268435456, 1: 88253106, 0: 180182350, ratio(1to0): 0.48980\n",
      "File: 28, total: 268435456, 1: 78654306, 0: 189781150, ratio(1to0): 0.41445\n",
      "File: 29, total: 268435456, 1: 69787309, 0: 198648147, ratio(1to0): 0.35131\n",
      "File: 30, total: 268435456, 1: 73673373, 0: 194762083, ratio(1to0): 0.37827\n",
      "File: 31, total: 268435456, 1: 92209687, 0: 176225769, ratio(1to0): 0.52325\n",
      "File: 32, total: 268435456, 1: 91364143, 0: 177071313, ratio(1to0): 0.51597\n",
      "File: 33, total: 268435456, 1: 81956403, 0: 186479053, ratio(1to0): 0.43949\n",
      "File: 34, total: 268435456, 1: 81840172, 0: 186595284, ratio(1to0): 0.43860\n",
      "File: 35, total: 268435456, 1: 96515393, 0: 171920063, ratio(1to0): 0.56140\n",
      "File: 36, total: 268435456, 1: 107662554, 0: 160772902, ratio(1to0): 0.66966\n",
      "File: 37, total: 268435456, 1: 112742124, 0: 155693332, ratio(1to0): 0.72413\n",
      "File: 38, total: 268435456, 1: 124787607, 0: 143647849, ratio(1to0): 0.86871\n",
      "File: 39, total: 268435456, 1: 124157547, 0: 144277909, ratio(1to0): 0.86054\n",
      "File: 40, total: 268435456, 1: 116527114, 0: 151908342, ratio(1to0): 0.76709\n",
      "File: 41, total: 268435456, 1: 100160769, 0: 168274687, ratio(1to0): 0.59522\n",
      "File: 42, total: 268435456, 1: 72476783, 0: 195958673, ratio(1to0): 0.36986\n",
      "File: 43, total: 268435456, 1: 67665695, 0: 200769761, ratio(1to0): 0.33703\n",
      "File: 44, total: 268435456, 1: 76554566, 0: 191880890, ratio(1to0): 0.39897\n",
      "File: 45, total: 268435456, 1: 59361393, 0: 209074063, ratio(1to0): 0.28393\n",
      "File: 46, total: 268435456, 1: 71284437, 0: 197151019, ratio(1to0): 0.36157\n",
      "File: 47, total: 268435456, 1: 78678407, 0: 189757049, ratio(1to0): 0.41463\n",
      "File: 48, total: 268435456, 1: 72493863, 0: 195941593, ratio(1to0): 0.36998\n",
      "File: 49, total: 33554432, 1: 10552956, 0: 23001476, ratio(1to0): 0.45879\n"
     ]
    }
   ],
   "source": [
    "for i in range(0,50):\n",
    "    masks = np.load(f'/scratch/project_2007251/2019/results/result_masks_{i}.npy')\n",
    "    countElements(masks, i)"
   ]
  },
  {
   "cell_type": "code",
   "execution_count": 9,
   "id": "c9d0d7e3-7e62-4aed-badd-7124074997ed",
   "metadata": {},
   "outputs": [],
   "source": []
  },
  {
   "cell_type": "code",
   "execution_count": null,
   "id": "8b3b0ed3-8ce3-4acf-bbdb-e7c5da091ac3",
   "metadata": {},
   "outputs": [],
   "source": []
  }
 ],
 "metadata": {
  "kernelspec": {
   "display_name": "Python 3 (ipykernel)",
   "language": "python",
   "name": "python3"
  },
  "language_info": {
   "codemirror_mode": {
    "name": "ipython",
    "version": 3
   },
   "file_extension": ".py",
   "mimetype": "text/x-python",
   "name": "python",
   "nbconvert_exporter": "python",
   "pygments_lexer": "ipython3",
   "version": "3.9.13"
  }
 },
 "nbformat": 4,
 "nbformat_minor": 5
}
