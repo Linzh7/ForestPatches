{
 "cells": [
  {
   "cell_type": "code",
   "execution_count": null,
   "metadata": {},
   "outputs": [],
   "source": [
    "from owslib.wms import WebMapService\n",
    "import tqdm\n",
    "import numpy as np\n",
    "import io\n",
    "from PIL import Image\n",
    "import sys\n",
    "\n",
    "INDEX = 0\n",
    "\n",
    "wms_map_list = [\n",
    "    'https://kartta.hel.fi/ws/geoserver/avoindata/wms?request=getCapabilities',\n",
    "    'https://kartta.luke.fi/geoserver/MVMI/wms?version=1.3.0',\n",
    "    'https://paikkatieto.ymparisto.fi/arcgis/services/INSPIRE/SYKE_Maanpeite/MapServer/WMSServer?request=GetCapabilities&service=WMS',\n",
    "]\n",
    "\n",
    "# NOTE: set different sources here\n",
    "hel_map = WebMapService(wms_map_list[INDEX])\n",
    "\n",
    "\n",
    "def layers_filter(hel_map, index):\n",
    "    if index == 0:  # hel.fi\n",
    "        return [\n",
    "            name for name in hel_map.contents\n",
    "            if ('rtoilmakuva' in name and ('19' in name or '20' in name))\n",
    "        ]\n",
    "    elif index == 1:  # luke.fi\n",
    "        return [name for name in hel_map.contents if ('kuusi' in name)]\n",
    "    elif index == 2:  # ymparisto.fi\n",
    "        pass\n",
    "\n",
    "\n",
    "def get_submap(points, step=0.001, precision=14):\n",
    "    point1 = points[0]\n",
    "    point2 = points[1]\n",
    "    for i in range(int(abs((point2[0] - point1[0])) / step)):\n",
    "        for j in range(int(abs((point2[1] - point1[1])) / step)):\n",
    "            a = np.around(point1[0] + i * step, precision)\n",
    "            b = np.around(point1[1] + j * step, precision)\n",
    "            c = np.around(point1[0] + (i + 1) * step, precision)\n",
    "            d = np.around(point1[1] + (j + 1) * step, precision)\n",
    "            yield (a, b, c, d)\n",
    "\n",
    "\n",
    "def is_image_useful(image_flow):\n",
    "    memory_file = io.BytesIO()\n",
    "    memory_file.write(image_flow.read())\n",
    "    image = Image.open(memory_file)\n",
    "    gray_image = np.array(image.convert('L'))\n",
    "    if gray_image.mean() < 245:\n",
    "        return True\n",
    "    else:\n",
    "        return False\n",
    "\n",
    "\n",
    "print(\n",
    "    f'Title: {hel_map.identification.title}\\nVersion: {hel_map.identification.version}\\nAbstract: {hel_map.identification.abstract}'\n",
    ")\n"
   ]
  },
  {
   "cell_type": "code",
   "execution_count": null,
   "metadata": {},
   "outputs": [],
   "source": [
    "layer_list = layers_filter(hel_map, INDEX)\n",
    "\n",
    "# get info we need\n",
    "info_list = []\n",
    "for layer in layer_list:\n",
    "    print(\n",
    "        f' - Title: {hel_map[layer].title}\\n - Range: {hel_map[layer].boundingBoxWGS84}\\n - crsOptions: {hel_map[layer].crsOptions}\\n - Styles: {hel_map[layer].styles}\\n'\n",
    "    )\n",
    "    info_list.append({\n",
    "        'layer': layer,\n",
    "        'box': hel_map[layer].boundingBoxWGS84,\n",
    "        'crs': hel_map[layer].crsOptions,\n",
    "        'style': list(hel_map[layer].styles.keys())\n",
    "    })"
   ]
  },
  {
   "cell_type": "code",
   "execution_count": null,
   "metadata": {},
   "outputs": [],
   "source": [
    "# [op.name for op in hel_map.operations]\n",
    "# hel_map.getOperationByName('GetMap').methods\n",
    "# hel_map.getOperationByName('GetMap').formatOptions"
   ]
  },
  {
   "cell_type": "code",
   "execution_count": null,
   "metadata": {},
   "outputs": [],
   "source": [
    "hel_range = ((24.461826, 59.965919), (25.518606, 60.444763))\n",
    "reduced_hel_range = ((24.9, 60), (25.2, 60.3))\n",
    "for info in tqdm.tqdm(info_list):\n",
    "    for srs_index in range(27):\n",
    "        for box in get_submap(reduced_hel_range, 0.01):\n",
    "            # print(\n",
    "            #     f'Laying {info[\"layer\"]} on {box}, style: {info[\"style\"][0]}, srs: {info[\"crs\"][0]}'\n",
    "            # )\n",
    "            img = hel_map.getmap(\n",
    "                layers=[info['layer']],\n",
    "                srs=info['crs'][srs_index],\n",
    "                bbox=(24.9, 60, 25.2, 60.3),\n",
    "                # size=(5120, 5120),\n",
    "                size=(256, 256),\n",
    "                format='image/png',\n",
    "                transparent=False)\n",
    "            if is_image_useful(img):\n",
    "                print(f'Image {info[\"layer\"]}_{box}_{srs_index} is useful, saving...')\n",
    "                with open(f'./data/{info[\"layer\"]}_{box}_{srs_index}.png', 'wb') as f:\n",
    "                    f.write(img.read())\n",
    "            else:\n",
    "                print(f'Image {info[\"layer\"]}_{box}_{srs_index} is useless')\n",
    "        break\n",
    "    break"
   ]
  },
  {
   "cell_type": "code",
   "execution_count": null,
   "metadata": {},
   "outputs": [],
   "source": [
    "# NOTE: it seems that the server will only return the whole image in Helsinki area. I cannot get a hier resolution image.\n",
    "\n",
    "hel_range = ((24.461826, 59.965919), (25.518606, 60.444763))\n",
    "reduced_hel_range = ((24.9, 60), (25.2, 60.3))\n",
    "useful_srs = []\n",
    "useful_srs_index = [5, 12, 17]\n",
    "for info in tqdm.tqdm(info_list):\n",
    "    for srs_index in useful_srs_index:\n",
    "        for box in get_submap(reduced_hel_range, 0.001):\n",
    "            # print(\n",
    "            #     f'Laying {info[\"layer\"]} on {box}, style: {info[\"style\"][0]}, srs: {info[\"crs\"][0]}'\n",
    "            # )\n",
    "            img = hel_map.getmap(\n",
    "                layers=[info['layer']],\n",
    "                srs=info['crs'][srs_index],\n",
    "                bbox=(24.9, 60, 25.2, 60.3),\n",
    "                # size=(5120, 5120),\n",
    "                size=(10240, 10240),\n",
    "                format='image/png',\n",
    "                transparent=False)\n",
    "            if is_image_useful(img):\n",
    "                print(\n",
    "                    f'Image {info[\"layer\"]}_{box}_{srs_index} is useful, saving...'\n",
    "                )\n",
    "                useful_srs.append(info['crs'][srs_index])\n",
    "                with open(f'./data/{info[\"layer\"]}_{box}_{srs_index}.png',\n",
    "                          'wb') as f:\n",
    "                    f.write(img.read())\n",
    "            else:\n",
    "                print(f'Image {info[\"layer\"]}_{box}_{srs_index} is useless',flush=True)\n"
   ]
  },
  {
   "cell_type": "code",
   "execution_count": null,
   "metadata": {},
   "outputs": [],
   "source": [
    "list(set(useful_srs))"
   ]
  },
  {
   "cell_type": "code",
   "execution_count": null,
   "metadata": {},
   "outputs": [],
   "source": []
  }
 ],
 "metadata": {
  "kernelspec": {
   "display_name": "geo",
   "language": "python",
   "name": "python3"
  },
  "language_info": {
   "codemirror_mode": {
    "name": "ipython",
    "version": 3
   },
   "file_extension": ".py",
   "mimetype": "text/x-python",
   "name": "python",
   "nbconvert_exporter": "python",
   "pygments_lexer": "ipython3",
   "version": "3.10.9"
  },
  "orig_nbformat": 4,
  "vscode": {
   "interpreter": {
    "hash": "3b2baf44322cdf7352f6a8f59a9387e1c217bea313b7b4531152cfbcacd26348"
   }
  }
 },
 "nbformat": 4,
 "nbformat_minor": 2
}
