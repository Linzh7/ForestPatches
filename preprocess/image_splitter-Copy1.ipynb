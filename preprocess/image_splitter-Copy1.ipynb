{
 "cells": [
  {
   "cell_type": "code",
   "execution_count": 1,
   "id": "b6bf9822",
   "metadata": {},
   "outputs": [],
   "source": [
    "# Imports\n",
    "\n",
    "from split_image import split_image\n",
    "import os\n",
    "from math import trunc\n",
    "from tqdm import tqdm\n",
    "import pandas as pd\n",
    "from PIL import Image\n",
    "import warnings\n",
    "\n",
    "warnings.simplefilter(action='ignore', category=FutureWarning)\n"
   ]
  },
  {
   "cell_type": "markdown",
   "id": "fe96995b",
   "metadata": {},
   "source": [
    "## Split and I rename images"
   ]
  },
  {
   "cell_type": "code",
   "execution_count": 2,
   "id": "eaecc130",
   "metadata": {},
   "outputs": [],
   "source": [
    "YEAR = '1964'\n",
    "\n",
    "PATH = f\"/scratch/project_2007251/hel{YEAR}/\"\n",
    "DATA_PATH = os.path.join(PATH, 'colored_images/')\n",
    "RESULT_PATH = os.path.join(PATH, 'small_images/')\n",
    "IMAGE_FOLDER_NAME = f\"hel{YEAR}\"\n",
    "CSV_PATH = os.path.join(PATH, f'avoindata:Ortoilmakuva_{YEAR}_range_info.csv')\n",
    "CSV_RESULT_PATH = os.path.join(PATH, 'output.csv')\n",
    "\n",
    "if not os.path.exists(RESULT_PATH):\n",
    "    os.makedirs(RESULT_PATH)\n",
    "else:\n",
    "    print('There is a folder exists.')\n",
    "    print(f'There are {len(os.listdir(RESULT_PATH))} files.')"
   ]
  },
  {
   "cell_type": "code",
   "execution_count": 3,
   "id": "2e159dd2-86ae-41f0-b274-be672ffaa0d7",
   "metadata": {},
   "outputs": [],
   "source": [
    "# fix the bug if run multiple times. :(\n",
    "\n",
    "# for image_name in tqdm(os.listdir(DATA_PATH)):\n",
    "#     if image_name.endswith(\".png\"):  # check if the file is a PNG image\n",
    "#         # Split the filename into its parts\n",
    "#         name, ext = os.path.splitext(image_name)\n",
    "#         year, part1, part2 = name.split(\"_\")\n",
    "#         part1 = part1.replace(\"00\", \"0\")\n",
    "#         part2 = part2.replace(\"00\", \"0\")\n",
    "\n",
    "#         new_name = f\"{year}_{part1}_{part2}{ext}\"\n",
    "#         os.rename(os.path.join(DATA_PATH, image_name), os.path.join(DATA_PATH, new_name))\n",
    "#         # print(f\"Renamed {image_name} to {new_name}\")\n",
    "#         # break\n"
   ]
  },
  {
   "cell_type": "code",
   "execution_count": 10,
   "id": "f106fefa",
   "metadata": {},
   "outputs": [],
   "source": [
    "# Rename unsplit images according to new coordinate system\n",
    "# Multiplies each coordinate by one to make room for splitting each image to 10x10 smaller images\n",
    "for image_name in os.listdir(DATA_PATH):\n",
    "    \n",
    "    # Create new name for the image with correct coordinate\n",
    "    coordinates = image_name.split(\".\")[0].split(\"_\")[1:]\n",
    "    new_image_name = IMAGE_FOLDER_NAME + \"_\" + str(int(coordinates[0])*10) + \"_\" + str(int(coordinates[1])*10) + \".png\"\n",
    "    \n",
    "    # Rename file\n",
    "    old_img_path = DATA_PATH + image_name\n",
    "    new_img_path = DATA_PATH + new_image_name\n",
    "    \n",
    "    os.rename(old_img_path, new_img_path)\n",
    "\n",
    "    \n",
    "# Fix names with just one \"0\" in their name -> replace with \"00\"\n",
    "for image_name in os.listdir(DATA_PATH):\n",
    "    \n",
    "    if image_name.lower().endswith(('.png', '.jpg', '.jpeg')):\n",
    "        \n",
    "        start, old_x, old_y = image_name.split(\".\")[0].split(\"_\")\n",
    "        new_x = old_x\n",
    "        new_y = old_y\n",
    "        \n",
    "        if new_x == \"0\" or new_y == \"0\":\n",
    "\n",
    "            if new_x == \"0\":\n",
    "                new_x = \"00\"\n",
    "            if new_y == \"0\":\n",
    "                new_y = \"00\"\n",
    "\n",
    "            new_image_name = start + \"_\" + new_x + \"_\" + new_y + \".png\"\n",
    "\n",
    "            # Rename file\n",
    "            old_img_path = DATA_PATH + image_name\n",
    "            new_img_path = DATA_PATH + new_image_name\n",
    "\n",
    "            os.rename(old_img_path, new_img_path)"
   ]
  },
  {
   "cell_type": "code",
   "execution_count": 4,
   "id": "d18d3698",
   "metadata": {},
   "outputs": [
    {
     "name": "stdout",
     "output_type": "stream",
     "text": [
      "/scratch/project_2007251/hel1964/colored_images/\n"
     ]
    },
    {
     "name": "stderr",
     "output_type": "stream",
     "text": [
      "100%|██████████| 504/504 [1:30:10<00:00, 10.74s/it]\n"
     ]
    }
   ],
   "source": [
    "# Split images\n",
    "\n",
    "print(DATA_PATH)\n",
    "\n",
    "for image_name in tqdm(os.listdir(DATA_PATH)):\n",
    "    \n",
    "    if image_name.lower().endswith(('.png', '.jpg', '.jpeg')):\n",
    "        \n",
    "        img_path = DATA_PATH + image_name\n",
    "        split_image(image_path=img_path,\n",
    "                    rows=10,\n",
    "                    cols=10,\n",
    "                    should_square=False,\n",
    "                    should_quiet=True,\n",
    "                    should_cleanup=False,\n",
    "                    output_dir=RESULT_PATH)"
   ]
  },
  {
   "cell_type": "code",
   "execution_count": 5,
   "id": "07ef1e42-b544-4adf-ac74-dbadef339fae",
   "metadata": {},
   "outputs": [],
   "source": [
    "# import cv2\n",
    "# print(RESULT_PATH)\n",
    "# list_5120 = []\n",
    "# for i in tqdm(os.listdir(RESULT_PATH)):\n",
    "#     # print(i)\n",
    "#     img = cv2.imread(os.path.join(RESULT_PATH,i))\n",
    "#     if img.shape != (512, 512, 3):\n",
    "#         print(o, img.shape)\n",
    "#         list_5120.append(fileList[i])\n",
    "#         # break"
   ]
  },
  {
   "cell_type": "code",
   "execution_count": null,
   "id": "12ae7e96-6fcf-4f15-91a0-706863a5a960",
   "metadata": {},
   "outputs": [],
   "source": []
  },
  {
   "cell_type": "code",
   "execution_count": 6,
   "id": "baa0119c",
   "metadata": {},
   "outputs": [
    {
     "name": "stdout",
     "output_type": "stream",
     "text": [
      "/scratch/project_2007251/hel1964/small_images/\n"
     ]
    },
    {
     "name": "stderr",
     "output_type": "stream",
     "text": [
      "100%|██████████| 50400/50400 [00:17<00:00, 2845.65it/s]\n"
     ]
    }
   ],
   "source": [
    "# Rename newly split images according to new coordinate system\n",
    "# Fix naming convention to match our coordinate system\n",
    "print(RESULT_PATH)\n",
    "\n",
    "for image_name in tqdm(os.listdir(RESULT_PATH)):\n",
    "    \n",
    "    # Only modify images\n",
    "    if image_name.lower().endswith(('.png', '.jpg', '.jpeg')):\n",
    "        \n",
    "        # Get x an y value from old name\n",
    "        index_number = int(image_name.split(\".\")[0].split(\"_\")[-1])\n",
    "        x = index_number % 10\n",
    "        y = 9 - trunc(index_number / 10)\n",
    "        \n",
    "        # Split old name into parts\n",
    "        start, old_x, old_y, i = image_name.split(\".\")[0].split(\"_\")\n",
    "        \n",
    "        # Build new name from parts and new manipulated coordinates\n",
    "        new_y = old_y[:-1] + str(y)\n",
    "        new_x = old_x[:-1] + str(x)\n",
    "        new_image_name = start + \"_\" + new_x + \"_\" + new_y + \".png\"\n",
    "\n",
    "        # Rename file\n",
    "        old_img_path = RESULT_PATH + image_name\n",
    "        new_img_path = RESULT_PATH + new_image_name\n",
    "        os.rename(old_img_path, new_img_path)"
   ]
  },
  {
   "cell_type": "markdown",
   "id": "daf46e2f",
   "metadata": {},
   "source": [
    "## Create csv file for splitted images"
   ]
  },
  {
   "cell_type": "code",
   "execution_count": 7,
   "id": "7a3f9b59",
   "metadata": {},
   "outputs": [
    {
     "name": "stdout",
     "output_type": "stream",
     "text": [
      "/scratch/project_2007251/hel1964/output.csv\n"
     ]
    },
    {
     "name": "stderr",
     "output_type": "stream",
     "text": [
      "100%|██████████| 420/420 [01:08<00:00,  6.15it/s]\n"
     ]
    }
   ],
   "source": [
    "# Create info csv files for splitted data\n",
    "print(CSV_RESULT_PATH)\n",
    "\n",
    "x_min = 24.8121\n",
    "y_min = 60.1415\n",
    "x_max = 25.1984\n",
    "y_max = 60.3033\n",
    "\n",
    "cols = {'Location': [],\n",
    "        'x_min': [],\n",
    "        'y_min': [],\n",
    "        'x_max': [],\n",
    "        'y_max': []}\n",
    "csv_df = pd.DataFrame(cols)\n",
    "\n",
    "for x in tqdm(range(0,420)):\n",
    "    for y in range(0,120):\n",
    "        \n",
    "        location_x = str(x)\n",
    "        location_y = str(y)\n",
    "        if x < 10:\n",
    "            location_x = \"0\" + location_x\n",
    "        if y < 10:\n",
    "            location_y = \"0\" + location_y\n",
    "        \n",
    "        location = \"hel2019_\" + location_x + \"_\" + location_y + \".png\"\n",
    "        \n",
    "        csv_df = csv_df.append(\n",
    "        {'Location': location,\n",
    "            'x_min': x_min + x * 0.0009001,\n",
    "            'x_max': x_min + x * 0.0009001 + 0.0009001,\n",
    "            'y_min': y_min + y * 0.001272793,\n",
    "            'y_max': y_min + y * 0.001272793 + 0.001272793\n",
    "        },\n",
    "        ignore_index = True)\n",
    "        \n",
    "csv_df.to_csv(CSV_RESULT_PATH, header=False, index=False)"
   ]
  },
  {
   "cell_type": "code",
   "execution_count": null,
   "id": "0c3c2987",
   "metadata": {},
   "outputs": [],
   "source": []
  },
  {
   "cell_type": "markdown",
   "id": "9d41d78e",
   "metadata": {},
   "source": [
    "## Combine splitted images back into one"
   ]
  },
  {
   "cell_type": "code",
   "execution_count": null,
   "id": "e0e89c91",
   "metadata": {},
   "outputs": [],
   "source": [
    "IMAGE_FOLDER_PATH = '/Users/hartih/Documents/GitHub/ForestPatches/data/hel2015_sample/images/'\n",
    "IMAGE_NAME_BEGINNING = 'hel2015_'\n",
    "EXAMPLE_IMAGE_URL = '/Users/hartih/Documents/GitHub/ForestPatches/data/hel2015_sample/images/hel2015_4_9.png'\n",
    "TARGET_IMAGE = '/Users/hartih/Downloads/test_combination_png.png'\n",
    "\n",
    "# Get list of image names to be combined\n",
    "image_names = os.listdir(IMAGE_FOLDER_PATH)\n",
    "\n",
    "# Filter out non-image files (e.g. DS_store)\n",
    "def filter_images(image_name):\n",
    "    if image_name.lower().endswith(('.png', '.jpg', '.jpeg')):\n",
    "          return True\n",
    "    return False\n",
    "image_names =  filter(filter_images, image_names)\n",
    "\n",
    "image_names = [name.split(\".\")[0].split(\"_\") for name in image_names]\n",
    "x_list = [int(i[1]) for i in image_names]\n",
    "y_list = [int(i[2]) for i in image_names]\n",
    "\n",
    "# Create sorted list of xs\n",
    "x_list = list(dict.fromkeys(x_list))\n",
    "x_list.sort()\n",
    "\n",
    "# Create reverse sorted list of ys\n",
    "y_list = list(dict.fromkeys(y_list))\n",
    "y_list.sort()\n",
    "y_list.reverse()\n",
    "\n",
    "# Combine images into one big one\n",
    "example_image = Image.open(EXAMPLE_IMAGE_URL)\n",
    "dst = Image.new('RGB', (example_image.width * len(x_list), example_image.height * len(y_list)))\n",
    "i_x = 0\n",
    "for x in x_list:\n",
    "    i_y = 0\n",
    "    for y in y_list:\n",
    "        \n",
    "        # Make sure x and y in name matches splitted images\n",
    "        str_x = str(x)\n",
    "        str_y = str(y)\n",
    "        #if len(str_x) == 1:\n",
    "        #    str_x = \"0\" + str_x\n",
    "        #if len(str_y) == 1:\n",
    "        #    str_y = \"0\" + str_y\n",
    "        \n",
    "        # Paste image to new combined image\n",
    "        image_name = IMAGE_NAME_BEGINNING + str_x + \"_\" + str_y + \".png\"\n",
    "        print(image_name)\n",
    "        image_url = IMAGE_FOLDER_PATH + image_name\n",
    "        image = Image.open(image_url)\n",
    "        print(image_url)\n",
    "\n",
    "        dst.paste(image, (i_x * example_image.width, i_y * example_image.height))\n",
    "        i_y += 1\n",
    "    i_x += 1\n",
    "\n",
    "# Save combined image\n",
    "dst.save(TARGET_IMAGE)"
   ]
  },
  {
   "cell_type": "code",
   "execution_count": null,
   "id": "154418a4",
   "metadata": {},
   "outputs": [],
   "source": []
  },
  {
   "cell_type": "code",
   "execution_count": null,
   "id": "9f637661",
   "metadata": {},
   "outputs": [],
   "source": []
  },
  {
   "cell_type": "code",
   "execution_count": null,
   "id": "91d978a0",
   "metadata": {},
   "outputs": [],
   "source": []
  }
 ],
 "metadata": {
  "kernelspec": {
   "display_name": "Python 3 (ipykernel)",
   "language": "python",
   "name": "python3"
  },
  "language_info": {
   "codemirror_mode": {
    "name": "ipython",
    "version": 3
   },
   "file_extension": ".py",
   "mimetype": "text/x-python",
   "name": "python",
   "nbconvert_exporter": "python",
   "pygments_lexer": "ipython3",
   "version": "3.9.13"
  }
 },
 "nbformat": 4,
 "nbformat_minor": 5
}
