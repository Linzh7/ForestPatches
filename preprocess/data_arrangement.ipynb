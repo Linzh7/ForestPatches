{
 "cells": [
  {
   "cell_type": "code",
   "execution_count": 1,
   "id": "25269d45-11a9-4ba0-a774-571597db0e7b",
   "metadata": {},
   "outputs": [],
   "source": [
    "import os\n",
    "import argparse\n",
    "from PIL import Image\n",
    "import linzhutils as lu\n",
    "from tqdm import tqdm\n",
    "import shutil\n",
    "from pathlib import Path"
   ]
  },
  {
   "cell_type": "code",
   "execution_count": 5,
   "id": "71ef9cf8-7dc7-46cf-ada3-eb8a737223c6",
   "metadata": {},
   "outputs": [
    {
     "name": "stderr",
     "output_type": "stream",
     "text": [
      "100%|██████████| 10079/10079 [10:45<00:00, 15.62it/s]\n"
     ]
    }
   ],
   "source": [
    "lu.copyFileTo('/scratch/project_2007251/data/hel2019/val_imgset', '/scratch/project_2007251/data/hel2019/kussi_imageset', '*')"
   ]
  },
  {
   "cell_type": "code",
   "execution_count": 6,
   "id": "47ada488-74c3-4999-a35d-8ebcfbfe9aef",
   "metadata": {},
   "outputs": [
    {
     "data": {
      "text/plain": [
       "40321"
      ]
     },
     "execution_count": 6,
     "metadata": {},
     "output_type": "execute_result"
    }
   ],
   "source": [
    "len(lu.getFileList('/scratch/project_2007251/data/hel2019/imgset'))"
   ]
  },
  {
   "cell_type": "code",
   "execution_count": 7,
   "id": "6bcf31ba-7135-420e-a0e4-4b383ff50aca",
   "metadata": {},
   "outputs": [
    {
     "data": {
      "text/plain": [
       "50400"
      ]
     },
     "execution_count": 7,
     "metadata": {},
     "output_type": "execute_result"
    }
   ],
   "source": [
    "len(lu.getFileList('/scratch/project_2007251/data/hel2019/kussi_imageset'))"
   ]
  },
  {
   "cell_type": "code",
   "execution_count": 8,
   "id": "a4428145-e07c-4735-abde-632f8e343927",
   "metadata": {},
   "outputs": [
    {
     "data": {
      "text/plain": [
       "50400"
      ]
     },
     "execution_count": 8,
     "metadata": {},
     "output_type": "execute_result"
    }
   ],
   "source": [
    "len()"
   ]
  },
  {
   "cell_type": "code",
   "execution_count": 9,
   "id": "ccba9810-767f-4520-a043-0195b6672207",
   "metadata": {},
   "outputs": [
    {
     "data": {
      "text/plain": [
       "True"
      ]
     },
     "execution_count": 9,
     "metadata": {},
     "output_type": "execute_result"
    }
   ],
   "source": [
    "sorted(lu.getFileList('/scratch/project_2007251/data/hel2019/kussi_imageset'))==sorted(lu.getFileList('/scratch/project_2007251/data/hel2019/kussi_masks'))"
   ]
  },
  {
   "cell_type": "code",
   "execution_count": null,
   "id": "9db4eed4-7d24-47db-9341-8a54c65f36b4",
   "metadata": {},
   "outputs": [],
   "source": []
  }
 ],
 "metadata": {
  "kernelspec": {
   "display_name": "Python 3 (ipykernel)",
   "language": "python",
   "name": "python3"
  },
  "language_info": {
   "codemirror_mode": {
    "name": "ipython",
    "version": 3
   },
   "file_extension": ".py",
   "mimetype": "text/x-python",
   "name": "python",
   "nbconvert_exporter": "python",
   "pygments_lexer": "ipython3",
   "version": "3.9.13"
  }
 },
 "nbformat": 4,
 "nbformat_minor": 5
}
