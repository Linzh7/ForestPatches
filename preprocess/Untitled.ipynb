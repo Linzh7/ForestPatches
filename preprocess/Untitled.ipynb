{
 "cells": [
  {
   "cell_type": "code",
   "execution_count": 1,
   "id": "74ffcf33-40f9-465e-b1cb-2010a7b3f270",
   "metadata": {},
   "outputs": [
    {
     "name": "stdout",
     "output_type": "stream",
     "text": [
      "Defaulting to user installation because normal site-packages is not writeable\n",
      "Requirement already satisfied: openmim in /users/zhongzha/.local/lib/python3.9/site-packages (0.3.6)\n",
      "Requirement already satisfied: model-index in /users/zhongzha/.local/lib/python3.9/site-packages (from openmim) (0.1.11)\n",
      "Requirement already satisfied: tabulate in /usr/local/lib/python3.9/site-packages (from openmim) (0.9.0)\n",
      "Requirement already satisfied: pandas in /usr/local/lib64/python3.9/site-packages (from openmim) (1.5.2)\n",
      "Requirement already satisfied: requests in /usr/local/lib/python3.9/site-packages (from openmim) (2.28.1)\n",
      "Requirement already satisfied: Click in /usr/local/lib/python3.9/site-packages (from openmim) (8.0.4)\n",
      "Requirement already satisfied: colorama in /usr/local/lib/python3.9/site-packages (from openmim) (0.4.6)\n",
      "Requirement already satisfied: rich in /users/zhongzha/.local/lib/python3.9/site-packages (from openmim) (13.3.2)\n",
      "Requirement already satisfied: pip>=19.3 in /usr/lib/python3.9/site-packages (from openmim) (20.2.4)\n",
      "Requirement already satisfied: markdown in /usr/local/lib/python3.9/site-packages (from model-index->openmim) (3.4.1)\n",
      "Requirement already satisfied: pyyaml in /usr/local/lib64/python3.9/site-packages (from model-index->openmim) (6.0)\n",
      "Requirement already satisfied: ordered-set in /users/zhongzha/.local/lib/python3.9/site-packages (from model-index->openmim) (4.1.0)\n",
      "Requirement already satisfied: python-dateutil>=2.8.1 in /usr/local/lib/python3.9/site-packages (from pandas->openmim) (2.8.2)\n",
      "Requirement already satisfied: numpy>=1.20.3; python_version < \"3.10\" in /usr/local/lib64/python3.9/site-packages (from pandas->openmim) (1.23.5)\n",
      "Requirement already satisfied: pytz>=2020.1 in /usr/local/lib/python3.9/site-packages (from pandas->openmim) (2022.6)\n",
      "Requirement already satisfied: certifi>=2017.4.17 in /usr/local/lib/python3.9/site-packages (from requests->openmim) (2022.9.24)\n",
      "Requirement already satisfied: idna<4,>=2.5 in /usr/local/lib/python3.9/site-packages (from requests->openmim) (3.4)\n",
      "Requirement already satisfied: urllib3<1.27,>=1.21.1 in /usr/local/lib/python3.9/site-packages (from requests->openmim) (1.26.13)\n",
      "Requirement already satisfied: charset-normalizer<3,>=2 in /usr/local/lib/python3.9/site-packages (from requests->openmim) (2.1.1)\n",
      "Collecting markdown-it-py<3.0.0,>=2.2.0\n",
      "  Using cached markdown_it_py-2.2.0-py3-none-any.whl (84 kB)\n",
      "Requirement already satisfied: pygments<3.0.0,>=2.13.0 in /usr/local/lib/python3.9/site-packages (from rich->openmim) (2.13.0)\n",
      "Requirement already satisfied: importlib-metadata>=4.4; python_version < \"3.10\" in /usr/local/lib/python3.9/site-packages (from markdown->model-index->openmim) (5.1.0)\n",
      "Requirement already satisfied: six>=1.5 in /usr/local/lib/python3.9/site-packages (from python-dateutil>=2.8.1->pandas->openmim) (1.16.0)\n",
      "Requirement already satisfied: mdurl~=0.1 in /usr/local/lib/python3.9/site-packages (from markdown-it-py<3.0.0,>=2.2.0->rich->openmim) (0.1.2)\n",
      "Requirement already satisfied: zipp>=0.5 in /usr/local/lib/python3.9/site-packages (from importlib-metadata>=4.4; python_version < \"3.10\"->markdown->model-index->openmim) (3.11.0)\n",
      "Installing collected packages: markdown-it-py\n",
      "\u001b[33m  WARNING: The script markdown-it is installed in '/users/zhongzha/.local/bin' which is not on PATH.\n",
      "  Consider adding this directory to PATH or, if you prefer to suppress this warning, use --no-warn-script-location.\u001b[0m\n",
      "Successfully installed markdown-it-py-2.2.0\n",
      "/bin/bash: mim: command not found\n"
     ]
    }
   ],
   "source": [
    "!pip install openmim\n",
    "!mim install mmcv-full"
   ]
  },
  {
   "cell_type": "code",
   "execution_count": 2,
   "id": "49baebf9-1a44-4f9a-a6d8-6b714ce2efdf",
   "metadata": {},
   "outputs": [
    {
     "name": "stdout",
     "output_type": "stream",
     "text": [
      "/projappl/project_2007251/ForestPatches/preprocess\n"
     ]
    }
   ],
   "source": [
    "!pwd"
   ]
  },
  {
   "cell_type": "code",
   "execution_count": null,
   "id": "c2f34156-1b94-45ff-b95e-731b8f8fec81",
   "metadata": {},
   "outputs": [],
   "source": []
  }
 ],
 "metadata": {
  "kernelspec": {
   "display_name": "Python 3 (ipykernel)",
   "language": "python",
   "name": "python3"
  },
  "language_info": {
   "codemirror_mode": {
    "name": "ipython",
    "version": 3
   },
   "file_extension": ".py",
   "mimetype": "text/x-python",
   "name": "python",
   "nbconvert_exporter": "python",
   "pygments_lexer": "ipython3",
   "version": "3.9.13"
  }
 },
 "nbformat": 4,
 "nbformat_minor": 5
}
