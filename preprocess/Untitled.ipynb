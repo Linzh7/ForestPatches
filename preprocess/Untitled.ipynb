{
 "cells": [
  {
   "cell_type": "code",
   "execution_count": 1,
   "id": "25269d45-11a9-4ba0-a774-571597db0e7b",
   "metadata": {},
   "outputs": [],
   "source": [
    "import argparse\n",
    "import cv2\n",
    "import json\n",
    "import numpy as np\n",
    "import os\n",
    "from collections import defaultdict\n",
    "from tqdm import tqdm\n",
    "import linzhutils as lu\n"
   ]
  },
  {
   "cell_type": "code",
   "execution_count": 2,
   "id": "37563b49-ef0d-4db2-b377-5ee181cafcb9",
   "metadata": {},
   "outputs": [],
   "source": [
    "input_path = \"../data/hel2019/color_masks/\""
   ]
  },
  {
   "cell_type": "code",
   "execution_count": 3,
   "id": "0a8db067-e0ac-4fd7-afb2-8b59c77252bc",
   "metadata": {},
   "outputs": [
    {
     "name": "stderr",
     "output_type": "stream",
     "text": [
      "  0%|          | 0/50 [00:00<?, ?it/s]"
     ]
    },
    {
     "name": "stdout",
     "output_type": "stream",
     "text": [
      "helsinki2019_3_9.png\n"
     ]
    },
    {
     "name": "stderr",
     "output_type": "stream",
     "text": [
      "\n"
     ]
    }
   ],
   "source": [
    "folder_list = lu.getFolderList(input_path)\n",
    "# lu.checkDir(output_path)\n",
    "\n",
    "file_list = lu.getFileList(input_path)\n",
    "for file_name in tqdm(file_list):\n",
    "    print(file_name)\n",
    "    break"
   ]
  },
  {
   "cell_type": "code",
   "execution_count": 4,
   "id": "769f707b-b118-4c7c-b2d8-724f55227ea2",
   "metadata": {},
   "outputs": [
    {
     "data": {
      "text/plain": [
       "['muulp_1231', 'manty_1321', '.ipynb_checkpoints', 'kuusi_1231', 'koivu_1231']"
      ]
     },
     "execution_count": 4,
     "metadata": {},
     "output_type": "execute_result"
    }
   ],
   "source": [
    "folder_list"
   ]
  },
  {
   "cell_type": "code",
   "execution_count": null,
   "id": "f1a6d435-245f-4e5e-8525-3b92b14e90d9",
   "metadata": {},
   "outputs": [],
   "source": []
  }
 ],
 "metadata": {
  "kernelspec": {
   "display_name": "Python 3 (ipykernel)",
   "language": "python",
   "name": "python3"
  },
  "language_info": {
   "codemirror_mode": {
    "name": "ipython",
    "version": 3
   },
   "file_extension": ".py",
   "mimetype": "text/x-python",
   "name": "python",
   "nbconvert_exporter": "python",
   "pygments_lexer": "ipython3",
   "version": "3.9.13"
  }
 },
 "nbformat": 4,
 "nbformat_minor": 5
}
