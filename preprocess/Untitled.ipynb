{
 "cells": [
  {
   "cell_type": "code",
   "execution_count": 4,
   "id": "25269d45-11a9-4ba0-a774-571597db0e7b",
   "metadata": {},
   "outputs": [],
   "source": [
    "import os\n",
    "import argparse\n",
    "from PIL import Image\n",
    "import linzhutils as lu\n",
    "from tqdm import tqdm"
   ]
  },
  {
   "cell_type": "code",
   "execution_count": 5,
   "id": "0a8db067-e0ac-4fd7-afb2-8b59c77252bc",
   "metadata": {},
   "outputs": [],
   "source": [
    "def split_image(input_path, output_path, num_rows=10, num_cols=10, subimage_size=512):\n",
    "    # Create output directory if it doesn't exist\n",
    "    lu.checkDir(output_path)\n",
    "\n",
    "    # Loop over all files in input directory\n",
    "    for filename in tqdm(lu.getFileList(input_path)):\n",
    "        if filename.endswith('.jpg') or filename.endswith('.png'):\n",
    "            # Load image\n",
    "            image = Image.open(os.path.join(input_path, filename))\n",
    "            \n",
    "            # Loop over sub-images and save them\n",
    "            for i in range(num_rows):\n",
    "                for j in range(num_cols):\n",
    "                    # Calculate coordinates of sub-image\n",
    "                    left = j * subimage_size\n",
    "                    top = i * subimage_size\n",
    "                    right = left + subimage_size\n",
    "                    bottom = top + subimage_size\n",
    "\n",
    "                    # Crop sub-image and save it\n",
    "                    subimage = image.crop((left, top, right, bottom))\n",
    "                    subimage_filename = f\"{filename[:-4]}_{i}_{j}.png\"\n",
    "                    subimage.save(os.path.join(output_path, subimage_filename))\n",
    "\n"
   ]
  },
  {
   "cell_type": "code",
   "execution_count": 8,
   "id": "f1a6d435-245f-4e5e-8525-3b92b14e90d9",
   "metadata": {},
   "outputs": [
    {
     "name": "stderr",
     "output_type": "stream",
     "text": [
      "100%|██████████| 7/7 [00:00<00:00, 20.42it/s]\n"
     ]
    }
   ],
   "source": [
    "split_image('../data/hel2019/','../data/')"
   ]
  },
  {
   "cell_type": "code",
   "execution_count": 7,
   "id": "13255622-c3d8-439d-963c-d6d8ecb46bcc",
   "metadata": {},
   "outputs": [
    {
     "name": "stdout",
     "output_type": "stream",
     "text": [
      "/projappl/project_2007251/ForestPatches/preprocess\n"
     ]
    }
   ],
   "source": [
    "!pwd"
   ]
  },
  {
   "cell_type": "code",
   "execution_count": null,
   "id": "71ef9cf8-7dc7-46cf-ada3-eb8a737223c6",
   "metadata": {},
   "outputs": [],
   "source": []
  }
 ],
 "metadata": {
  "kernelspec": {
   "display_name": "Python 3 (ipykernel)",
   "language": "python",
   "name": "python3"
  },
  "language_info": {
   "codemirror_mode": {
    "name": "ipython",
    "version": 3
   },
   "file_extension": ".py",
   "mimetype": "text/x-python",
   "name": "python",
   "nbconvert_exporter": "python",
   "pygments_lexer": "ipython3",
   "version": "3.9.13"
  }
 },
 "nbformat": 4,
 "nbformat_minor": 5
}
