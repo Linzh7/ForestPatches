{
 "cells": [
  {
   "cell_type": "code",
   "execution_count": 1,
   "metadata": {},
   "outputs": [],
   "source": [
    "import os\n",
    "import numpy as np\n",
    "import cv2 as cv\n",
    "  \n",
    "\n",
    "#takes the label file folder and gives the coordinate-suffixes for moving the aerial photos to the correct folder for cnn \n",
    "def labelData(label_data_path):\n",
    "    os.chdir(label_data_path)\n",
    "    true = []\n",
    "    false = []\n",
    "    for file in os.listdir():\n",
    "        img = cv.imread(file)\n",
    "        b, g, r = cv.split(img)\n",
    "        mask = r < 254\n",
    "        mask = mask.astype(int)\n",
    "        if np.count_nonzero(mask) > img.shape[0]*img.shape[1] / 2:\n",
    "            true.append(file[11:])\n",
    "        else: \n",
    "            false.append(file[11:])\n",
    "    return true, false\n",
    "\n",
    "def moveDataByLabels(true, false, source_path, target_path, dataset):\n",
    "    for t in true:\n",
    "        os.rename(f\"{source_path}/{dataset}_{t}\", f\"{target_path}/true/{dataset}_{t}\")\n",
    "    for f in false:\n",
    "        os.rename(f\"{source_path}/{dataset}_{f}\", f\"{target_path}/false/{dataset}_{f}\")\n",
    "\n",
    "label_data_path = \"\"\n",
    "source_path = \"\"\n",
    "target_path = \"\"\n",
    "\n",
    "true, false = labelData(label_data_path)\n",
    "moveDataByLabels(true, false, source_path, target_path, \"avoindata:Ortoilmakuva_2019_20cm\")\n",
    "\n"
   ]
  },
  {
   "cell_type": "code",
   "execution_count": 2,
   "metadata": {},
   "outputs": [
    {
     "name": "stderr",
     "output_type": "stream",
     "text": [
      "/home/tulijoki/Data/Project/code/gisenv/lib/python3.10/site-packages/tqdm/auto.py:22: TqdmWarning: IProgress not found. Please update jupyter and ipywidgets. See https://ipywidgets.readthedocs.io/en/stable/user_install.html\n",
      "  from .autonotebook import tqdm as notebook_tqdm\n"
     ]
    }
   ],
   "source": [
    "import torch\n",
    "import torch.utils.data\n",
    "from torchvision import transforms, datasets\n",
    "import torch.nn as nn\n",
    "import torch.nn.functional as F\n",
    "\n",
    "BATCH_SIZE_TRAIN = 100\n",
    "BATCH_SIZE_TEST = 100\n",
    "LEARNING_RATE = 0.01\n",
    "NO_EPOCHS = 3"
   ]
  },
  {
   "cell_type": "code",
   "execution_count": 3,
   "metadata": {},
   "outputs": [],
   "source": [
    "train_data_path = \"\"\n",
    "test_data_path = \"\"\n",
    "\n",
    "transform = transforms.Compose([transforms.ToTensor()])\n",
    "\n",
    "train_set = datasets.ImageFolder(train_data_path, transform=transform)\n",
    "test_set = datasets.ImageFolder(test_data_path, transform=transform)\n",
    "\n",
    "train_loader = torch.utils.data.DataLoader(dataset=train_set, batch_size=BATCH_SIZE_TRAIN, shuffle=True)\n",
    "test_loader = torch.utils.data.DataLoader(dataset=test_set, batch_size=BATCH_SIZE_TEST, shuffle=False)\n"
   ]
  },
  {
   "cell_type": "code",
   "execution_count": 4,
   "metadata": {},
   "outputs": [],
   "source": [
    "class CNN(nn.Module):\n",
    "    def __init__(self):\n",
    "        super(CNN, self).__init__()\n",
    "        self.model = nn.Sequential(\n",
    "          nn.Conv2d(in_channels=3, out_channels=64, kernel_size=3, padding=1), \n",
    "          nn.ReLU(),\n",
    "          nn.MaxPool2d(2,2), \n",
    "          nn.Conv2d(in_channels=64,out_channels=128,kernel_size=3, padding=1), \n",
    "          nn.ReLU(),\n",
    "          nn.MaxPool2d(2,2),  \n",
    "          nn.Flatten(),\n",
    "          nn.Linear(131072, 1024),\n",
    "          nn.Linear(1024, 32),\n",
    "          nn.Linear(32,2)\n",
    "        )\n",
    "\n",
    "    def forward(self, x):\n",
    "        return self.model(x)"
   ]
  },
  {
   "cell_type": "code",
   "execution_count": 5,
   "metadata": {},
   "outputs": [
    {
     "name": "stdout",
     "output_type": "stream",
     "text": [
      "Training: Epoch 0, Loss: 91.56700211763382, Accuracy: 0.7554545402526855\n",
      "Training: Epoch 1, Loss: 77.53475990891457, Accuracy: 0.8156060576438904\n",
      "Training: Epoch 2, Loss: 73.07332594692707, Accuracy: 0.8321717381477356\n"
     ]
    }
   ],
   "source": [
    "if torch.cuda.is_available():\n",
    "    device = torch.device('cuda')\n",
    "else:\n",
    "    device = torch.device('cpu')\n",
    "\n",
    "model = CNN().to(device)\n",
    "\n",
    "loss_function = torch.nn.CrossEntropyLoss()\n",
    "optimizer = torch.optim.SGD(model.parameters(), LEARNING_RATE)\n",
    "\n",
    "for epoch in range(NO_EPOCHS):\n",
    "    train_loss = 0\n",
    "    train_correct = 0\n",
    "    total = 0\n",
    "    for batch_num, (data, target) in enumerate(train_loader):\n",
    "        data, target = data.to(device), target.to(device)\n",
    "        optimizer.zero_grad()\n",
    "        predicted = model(data)\n",
    "        predicted_class = torch.argmax(predicted, dim=1)\n",
    "        train_correct += BATCH_SIZE_TRAIN - torch.count_nonzero(predicted_class - target)\n",
    "        loss = loss_function(predicted, target)\n",
    "        total += BATCH_SIZE_TRAIN\n",
    "        train_loss += loss.item()\n",
    "        loss.backward()\n",
    "        optimizer.step()\n",
    "\n",
    "    print(f\"Training: Epoch {epoch}, Loss: {train_loss}, Accuracy: {train_correct / total}\")\n"
   ]
  },
  {
   "cell_type": "code",
   "execution_count": 6,
   "metadata": {},
   "outputs": [
    {
     "name": "stdout",
     "output_type": "stream",
     "text": [
      "Testing: Batch: 0 Loss: 0.323301762342453, Accuracy: 0.8700000047683716\n",
      "Testing: Batch: 1 Loss: 0.2725062966346741, Accuracy: 0.9200000166893005\n"
     ]
    }
   ],
   "source": [
    "with torch.no_grad():\n",
    "    for batch_num, (data, target) in enumerate(test_loader):\n",
    "        total = BATCH_SIZE_TEST\n",
    "        data, target = data.to(device), target.to(device)\n",
    "        predicted = model(data)\n",
    "        predicted_class = torch.argmax(predicted, dim=1)\n",
    "        diff = predicted_class - target\n",
    "        test_correct = BATCH_SIZE_TEST - torch.count_nonzero(diff)\n",
    "        loss = loss_function(predicted, target)\n",
    "        test_loss = loss.item()\n",
    "\n",
    "        print(f\"Testing: Batch: {batch_num} Loss: {test_loss}, Accuracy: {test_correct / total}\")"
   ]
  }
 ],
 "metadata": {
  "kernelspec": {
   "display_name": "gisenv",
   "language": "python",
   "name": "python3"
  },
  "language_info": {
   "codemirror_mode": {
    "name": "ipython",
    "version": 3
   },
   "file_extension": ".py",
   "mimetype": "text/x-python",
   "name": "python",
   "nbconvert_exporter": "python",
   "pygments_lexer": "ipython3",
   "version": "3.10.6"
  },
  "orig_nbformat": 4,
  "vscode": {
   "interpreter": {
    "hash": "4896f59de0191b94cfb877c2dfa82ecc1b626c67a3163f3094aa57986c9a89fc"
   }
  }
 },
 "nbformat": 4,
 "nbformat_minor": 2
}
